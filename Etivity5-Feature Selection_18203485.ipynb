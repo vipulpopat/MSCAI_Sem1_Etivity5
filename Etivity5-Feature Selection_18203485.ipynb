{
 "cells": [
  {
   "cell_type": "markdown",
   "metadata": {},
   "source": [
    "Student Details\n",
    "\n",
    "Name: Fergus Mc Hale\n",
    "\n",
    "ID: 18203485"
   ]
  },
  {
   "cell_type": "markdown",
   "metadata": {},
   "source": [
    "# Lab 5: Feature Selection "
   ]
  },
  {
   "cell_type": "markdown",
   "metadata": {},
   "source": [
    "This notebook builds on top of Lab 4 by introducing feature selection into the process of selecting the best classifier for a binary classification problem.\n",
    "\n",
    "The feature selection method applied here is Recursive Feature Elimination (RFE) as demonstrated in the tutorial at https://machinelearningmastery.com/feature-selection-in-python-with-scikit-learn/.\n",
    "\n",
    "In this demonstration we use a modified version of the seeds data set (see https://archive.ics.uci.edu/ml/datasets/seeds), which is the same data set used in Lab 4."
   ]
  },
  {
   "cell_type": "markdown",
   "metadata": {},
   "source": [
    "## A. Preparation"
   ]
  },
  {
   "cell_type": "markdown",
   "metadata": {},
   "source": [
    "### Import Python modules"
   ]
  },
  {
   "cell_type": "code",
   "execution_count": 1,
   "metadata": {},
   "outputs": [],
   "source": [
    "import warnings\n",
    "warnings.filterwarnings('ignore')\n",
    "\n",
    "import pandas as pd\n",
    "import numpy as np\n",
    "\n",
    "\n",
    "from sklearn import preprocessing #needed for scaling attributes to the nterval [0,1]\n",
    "\n",
    "from sklearn import svm\n",
    "from sklearn.linear_model import LogisticRegression, LassoCV\n",
    "from sklearn.ensemble import GradientBoostingClassifier\n",
    "from sklearn.feature_selection import RFE, SelectKBest,SelectFromModel\n",
    "from sklearn.model_selection import StratifiedKFold ,KFold, cross_val_score\n",
    "\n",
    "from sklearn.model_selection import train_test_split\n",
    "from sklearn.pipeline import Pipeline, FeatureUnion\n",
    "from sklearn.decomposition import PCA\n",
    "\n",
    "import seaborn as sns\n",
    "import matplotlib.pyplot as plt\n",
    "%matplotlib inline\n",
    "\n",
    "import warnings\n",
    "warnings.filterwarnings('ignore')"
   ]
  },
  {
   "cell_type": "markdown",
   "metadata": {},
   "source": [
    "### Load and prepare the dataset for training and evaluation\n",
    "Feel free to apply any other pre-processing technique at this point."
   ]
  },
  {
   "cell_type": "code",
   "execution_count": 2,
   "metadata": {},
   "outputs": [],
   "source": [
    "et5_df = pd.read_csv(\"./winequality_red.csv\")"
   ]
  },
  {
   "cell_type": "code",
   "execution_count": 3,
   "metadata": {},
   "outputs": [
    {
     "data": {
      "text/html": [
       "<div>\n",
       "<style scoped>\n",
       "    .dataframe tbody tr th:only-of-type {\n",
       "        vertical-align: middle;\n",
       "    }\n",
       "\n",
       "    .dataframe tbody tr th {\n",
       "        vertical-align: top;\n",
       "    }\n",
       "\n",
       "    .dataframe thead th {\n",
       "        text-align: right;\n",
       "    }\n",
       "</style>\n",
       "<table border=\"1\" class=\"dataframe\">\n",
       "  <thead>\n",
       "    <tr style=\"text-align: right;\">\n",
       "      <th></th>\n",
       "      <th>fixed acidity</th>\n",
       "      <th>volatile acidity</th>\n",
       "      <th>citric acid</th>\n",
       "      <th>residual sugar</th>\n",
       "      <th>chlorides</th>\n",
       "      <th>free sulfur dioxide</th>\n",
       "      <th>total sulfur dioxide</th>\n",
       "      <th>density</th>\n",
       "      <th>pH</th>\n",
       "      <th>sulphates</th>\n",
       "      <th>alcohol</th>\n",
       "      <th>quality</th>\n",
       "    </tr>\n",
       "  </thead>\n",
       "  <tbody>\n",
       "    <tr>\n",
       "      <th>count</th>\n",
       "      <td>1599.000000</td>\n",
       "      <td>1599.000000</td>\n",
       "      <td>1599.000000</td>\n",
       "      <td>1599.000000</td>\n",
       "      <td>1599.000000</td>\n",
       "      <td>1599.000000</td>\n",
       "      <td>1599.000000</td>\n",
       "      <td>1599.000000</td>\n",
       "      <td>1599.000000</td>\n",
       "      <td>1599.000000</td>\n",
       "      <td>1599.000000</td>\n",
       "      <td>1599.000000</td>\n",
       "    </tr>\n",
       "    <tr>\n",
       "      <th>mean</th>\n",
       "      <td>8.319637</td>\n",
       "      <td>0.527821</td>\n",
       "      <td>0.270976</td>\n",
       "      <td>2.538806</td>\n",
       "      <td>0.087467</td>\n",
       "      <td>15.874922</td>\n",
       "      <td>46.467792</td>\n",
       "      <td>0.996747</td>\n",
       "      <td>3.311113</td>\n",
       "      <td>0.658149</td>\n",
       "      <td>10.422983</td>\n",
       "      <td>5.636023</td>\n",
       "    </tr>\n",
       "    <tr>\n",
       "      <th>std</th>\n",
       "      <td>1.741096</td>\n",
       "      <td>0.179060</td>\n",
       "      <td>0.194801</td>\n",
       "      <td>1.409928</td>\n",
       "      <td>0.047065</td>\n",
       "      <td>10.460157</td>\n",
       "      <td>32.895324</td>\n",
       "      <td>0.001887</td>\n",
       "      <td>0.154386</td>\n",
       "      <td>0.169507</td>\n",
       "      <td>1.065668</td>\n",
       "      <td>0.807569</td>\n",
       "    </tr>\n",
       "    <tr>\n",
       "      <th>min</th>\n",
       "      <td>4.600000</td>\n",
       "      <td>0.120000</td>\n",
       "      <td>0.000000</td>\n",
       "      <td>0.900000</td>\n",
       "      <td>0.012000</td>\n",
       "      <td>1.000000</td>\n",
       "      <td>6.000000</td>\n",
       "      <td>0.990070</td>\n",
       "      <td>2.740000</td>\n",
       "      <td>0.330000</td>\n",
       "      <td>8.400000</td>\n",
       "      <td>3.000000</td>\n",
       "    </tr>\n",
       "    <tr>\n",
       "      <th>25%</th>\n",
       "      <td>7.100000</td>\n",
       "      <td>0.390000</td>\n",
       "      <td>0.090000</td>\n",
       "      <td>1.900000</td>\n",
       "      <td>0.070000</td>\n",
       "      <td>7.000000</td>\n",
       "      <td>22.000000</td>\n",
       "      <td>0.995600</td>\n",
       "      <td>3.210000</td>\n",
       "      <td>0.550000</td>\n",
       "      <td>9.500000</td>\n",
       "      <td>5.000000</td>\n",
       "    </tr>\n",
       "    <tr>\n",
       "      <th>50%</th>\n",
       "      <td>7.900000</td>\n",
       "      <td>0.520000</td>\n",
       "      <td>0.260000</td>\n",
       "      <td>2.200000</td>\n",
       "      <td>0.079000</td>\n",
       "      <td>14.000000</td>\n",
       "      <td>38.000000</td>\n",
       "      <td>0.996750</td>\n",
       "      <td>3.310000</td>\n",
       "      <td>0.620000</td>\n",
       "      <td>10.200000</td>\n",
       "      <td>6.000000</td>\n",
       "    </tr>\n",
       "    <tr>\n",
       "      <th>75%</th>\n",
       "      <td>9.200000</td>\n",
       "      <td>0.640000</td>\n",
       "      <td>0.420000</td>\n",
       "      <td>2.600000</td>\n",
       "      <td>0.090000</td>\n",
       "      <td>21.000000</td>\n",
       "      <td>62.000000</td>\n",
       "      <td>0.997835</td>\n",
       "      <td>3.400000</td>\n",
       "      <td>0.730000</td>\n",
       "      <td>11.100000</td>\n",
       "      <td>6.000000</td>\n",
       "    </tr>\n",
       "    <tr>\n",
       "      <th>max</th>\n",
       "      <td>15.900000</td>\n",
       "      <td>1.580000</td>\n",
       "      <td>1.000000</td>\n",
       "      <td>15.500000</td>\n",
       "      <td>0.611000</td>\n",
       "      <td>72.000000</td>\n",
       "      <td>289.000000</td>\n",
       "      <td>1.003690</td>\n",
       "      <td>4.010000</td>\n",
       "      <td>2.000000</td>\n",
       "      <td>14.900000</td>\n",
       "      <td>8.000000</td>\n",
       "    </tr>\n",
       "  </tbody>\n",
       "</table>\n",
       "</div>"
      ],
      "text/plain": [
       "       fixed acidity  volatile acidity  citric acid  residual sugar  \\\n",
       "count    1599.000000       1599.000000  1599.000000     1599.000000   \n",
       "mean        8.319637          0.527821     0.270976        2.538806   \n",
       "std         1.741096          0.179060     0.194801        1.409928   \n",
       "min         4.600000          0.120000     0.000000        0.900000   \n",
       "25%         7.100000          0.390000     0.090000        1.900000   \n",
       "50%         7.900000          0.520000     0.260000        2.200000   \n",
       "75%         9.200000          0.640000     0.420000        2.600000   \n",
       "max        15.900000          1.580000     1.000000       15.500000   \n",
       "\n",
       "         chlorides  free sulfur dioxide  total sulfur dioxide      density  \\\n",
       "count  1599.000000          1599.000000           1599.000000  1599.000000   \n",
       "mean      0.087467            15.874922             46.467792     0.996747   \n",
       "std       0.047065            10.460157             32.895324     0.001887   \n",
       "min       0.012000             1.000000              6.000000     0.990070   \n",
       "25%       0.070000             7.000000             22.000000     0.995600   \n",
       "50%       0.079000            14.000000             38.000000     0.996750   \n",
       "75%       0.090000            21.000000             62.000000     0.997835   \n",
       "max       0.611000            72.000000            289.000000     1.003690   \n",
       "\n",
       "                pH    sulphates      alcohol      quality  \n",
       "count  1599.000000  1599.000000  1599.000000  1599.000000  \n",
       "mean      3.311113     0.658149    10.422983     5.636023  \n",
       "std       0.154386     0.169507     1.065668     0.807569  \n",
       "min       2.740000     0.330000     8.400000     3.000000  \n",
       "25%       3.210000     0.550000     9.500000     5.000000  \n",
       "50%       3.310000     0.620000    10.200000     6.000000  \n",
       "75%       3.400000     0.730000    11.100000     6.000000  \n",
       "max       4.010000     2.000000    14.900000     8.000000  "
      ]
     },
     "execution_count": 3,
     "metadata": {},
     "output_type": "execute_result"
    }
   ],
   "source": [
    "et5_df.describe()"
   ]
  },
  {
   "cell_type": "code",
   "execution_count": 4,
   "metadata": {},
   "outputs": [],
   "source": [
    "numerical_cat = et5_df._get_numeric_data().columns"
   ]
  },
  {
   "cell_type": "code",
   "execution_count": 5,
   "metadata": {},
   "outputs": [],
   "source": [
    "def plot_feature(feature):\n",
    "    f, (ax_box, ax_hist) = plt.subplots(2, sharex=True, gridspec_kw={\"height_ratios\": (.15, .85)})\n",
    "\n",
    "    # Add a graph in each part\n",
    "    sns.boxplot(feature, ax=ax_box)\n",
    "    sns.distplot(feature, ax=ax_hist)\n",
    "\n",
    "    # Remove x axis name for the boxplot\n",
    "    ax_box.set(xlabel='')\n",
    "    plt.show()\n",
    "    return"
   ]
  },
  {
   "cell_type": "code",
   "execution_count": 6,
   "metadata": {},
   "outputs": [],
   "source": [
    "def outliers_iqr(ys):\n",
    "    quartile_1, quartile_3 = np.percentile(ys, [25, 75])\n",
    "    iqr = quartile_3 - quartile_1\n",
    "    lower_bound = quartile_1 - (iqr * 1.5)\n",
    "    upper_bound = quartile_3 + (iqr * 1.5)\n",
    "    return np.where((ys > upper_bound) | (ys < lower_bound))"
   ]
  },
  {
   "cell_type": "code",
   "execution_count": 7,
   "metadata": {},
   "outputs": [],
   "source": [
    "def display_field_info(category_type):\n",
    "    if(len(category_type) > 0):\n",
    "        for key in category_type:\n",
    "            print(\"\\n______\\t\",key,\"\\t_________\")\n",
    "            print(\"Total Values = \\t\",et5_df[key].count(),\"\\n\")\n",
    "            print(et5_df[key].value_counts())\n",
    "            iqr_outliners = outliers_iqr(et5_df[key])\n",
    "            print(\"Number of Unique Values are \",et5_df[key].nunique())\n",
    "            print(\"IQR Outliners = \\t\",iqr_outliners,\"\\n\")\n",
    "            print(\"_________________________________________\")\n",
    "            plot_feature(et5_df[key])\n",
    "            print(\"_________________________________________\")      "
   ]
  },
  {
   "cell_type": "code",
   "execution_count": 8,
   "metadata": {},
   "outputs": [
    {
     "name": "stdout",
     "output_type": "stream",
     "text": [
      "\n",
      "______\t fixed acidity \t_________\n",
      "Total Values = \t 1599 \n",
      "\n",
      "7.2     67\n",
      "7.1     57\n",
      "7.8     53\n",
      "7.5     52\n",
      "7.0     50\n",
      "7.7     49\n",
      "6.8     46\n",
      "7.6     46\n",
      "8.2     45\n",
      "7.4     44\n",
      "7.3     44\n",
      "8.0     42\n",
      "7.9     42\n",
      "8.3     40\n",
      "6.9     38\n",
      "6.6     37\n",
      "8.8     34\n",
      "8.9     33\n",
      "9.1     29\n",
      "6.7     28\n",
      "8.6     27\n",
      "9.0     26\n",
      "8.1     26\n",
      "8.4     26\n",
      "9.9     26\n",
      "6.4     25\n",
      "8.7     24\n",
      "10.0    23\n",
      "9.3     22\n",
      "10.4    21\n",
      "        ..\n",
      "12.7     4\n",
      "5.8      4\n",
      "5.3      4\n",
      "12.6     4\n",
      "12.4     4\n",
      "5.1      4\n",
      "12.2     4\n",
      "13.0     3\n",
      "11.0     3\n",
      "13.2     3\n",
      "11.8     3\n",
      "13.3     3\n",
      "11.7     3\n",
      "15.5     2\n",
      "5.7      2\n",
      "15.6     2\n",
      "12.9     2\n",
      "13.7     2\n",
      "15.0     2\n",
      "4.9      1\n",
      "15.9     1\n",
      "14.3     1\n",
      "12.1     1\n",
      "13.8     1\n",
      "13.5     1\n",
      "13.4     1\n",
      "14.0     1\n",
      "5.5      1\n",
      "4.6      1\n",
      "4.7      1\n",
      "Name: fixed acidity, Length: 96, dtype: int64\n",
      "Number of Unique Values are  96\n",
      "IQR Outliners = \t (array([ 205,  206,  243,  244,  264,  294,  328,  338,  339,  347,  353,\n",
      "        359,  363,  364,  366,  374,  381,  391,  394,  409,  429,  440,\n",
      "        442,  446,  470,  472,  509,  510,  516,  538,  544,  548,  554,\n",
      "        555,  557,  559,  560,  564,  565,  596,  599,  601,  603,  611,\n",
      "        652,  680,  811,  814, 1224], dtype=int64),) \n",
      "\n",
      "_________________________________________\n"
     ]
    },
    {
     "data": {
      "image/png": "[encoded data removed]",
      "text/plain": [
       "<Figure size 432x288 with 2 Axes>"
      ]
     },
     "metadata": {
      "needs_background": "light"
     },
     "output_type": "display_data"
    },
    {
     "name": "stdout",
     "output_type": "stream",
     "text": [
      "_________________________________________\n",
      "\n",
      "______\t volatile acidity \t_________\n",
      "Total Values = \t 1599 \n",
      "\n",
      "0.600    47\n",
      "0.500    46\n",
      "0.430    43\n",
      "0.590    39\n",
      "0.360    38\n",
      "0.580    38\n",
      "0.400    37\n",
      "0.490    35\n",
      "0.380    35\n",
      "0.390    35\n",
      "0.560    34\n",
      "0.520    33\n",
      "0.410    33\n",
      "0.460    31\n",
      "0.540    31\n",
      "0.420    31\n",
      "0.340    30\n",
      "0.310    30\n",
      "0.530    29\n",
      "0.630    29\n",
      "0.570    28\n",
      "0.610    27\n",
      "0.640    27\n",
      "0.660    26\n",
      "0.370    24\n",
      "0.480    24\n",
      "0.510    24\n",
      "0.620    24\n",
      "0.670    23\n",
      "0.440    23\n",
      "         ..\n",
      "0.160     2\n",
      "0.795     2\n",
      "0.190     2\n",
      "0.395     2\n",
      "0.935     2\n",
      "0.295     1\n",
      "0.920     1\n",
      "0.890     1\n",
      "1.185     1\n",
      "1.240     1\n",
      "0.565     1\n",
      "0.595     1\n",
      "1.130     1\n",
      "0.895     1\n",
      "1.005     1\n",
      "0.955     1\n",
      "1.115     1\n",
      "0.975     1\n",
      "1.025     1\n",
      "0.825     1\n",
      "1.070     1\n",
      "0.845     1\n",
      "1.180     1\n",
      "1.010     1\n",
      "0.865     1\n",
      "1.090     1\n",
      "1.035     1\n",
      "1.580     1\n",
      "0.950     1\n",
      "0.805     1\n",
      "Name: volatile acidity, Length: 143, dtype: int64\n",
      "Number of Unique Values are  143\n",
      "IQR Outliners = \t (array([  38,   94,  120,  126,  127,  134,  199,  553,  672,  690,  700,\n",
      "        705,  710,  724,  899, 1261, 1299, 1312, 1467], dtype=int64),) \n",
      "\n",
      "_________________________________________\n"
     ]
    },
    {
     "data": {
      "image/png": "[encoded data removed]",
      "text/plain": [
       "<Figure size 432x288 with 2 Axes>"
      ]
     },
     "metadata": {
      "needs_background": "light"
     },
     "output_type": "display_data"
    },
    {
     "name": "stdout",
     "output_type": "stream",
     "text": [
      "_________________________________________\n",
      "\n",
      "______\t citric acid \t_________\n",
      "Total Values = \t 1599 \n",
      "\n",
      "0.00    132\n",
      "0.49     68\n",
      "0.24     51\n",
      "0.02     50\n",
      "0.26     38\n",
      "0.10     35\n",
      "0.08     33\n",
      "0.01     33\n",
      "0.21     33\n",
      "0.32     32\n",
      "0.03     30\n",
      "0.09     30\n",
      "0.31     30\n",
      "0.30     30\n",
      "0.42     29\n",
      "0.40     29\n",
      "0.04     29\n",
      "0.39     28\n",
      "0.22     27\n",
      "0.12     27\n",
      "0.25     27\n",
      "0.33     25\n",
      "0.20     25\n",
      "0.23     25\n",
      "0.06     24\n",
      "0.34     24\n",
      "0.48     23\n",
      "0.44     23\n",
      "0.45     22\n",
      "0.07     22\n",
      "       ... \n",
      "0.38     14\n",
      "0.53     14\n",
      "0.51     13\n",
      "0.54     13\n",
      "0.35     13\n",
      "0.55     12\n",
      "0.68     11\n",
      "0.63     10\n",
      "0.57      9\n",
      "0.64      9\n",
      "0.16      9\n",
      "0.58      9\n",
      "0.60      9\n",
      "0.59      8\n",
      "0.56      8\n",
      "0.65      7\n",
      "0.74      4\n",
      "0.69      4\n",
      "0.76      3\n",
      "0.73      3\n",
      "0.67      2\n",
      "0.61      2\n",
      "0.70      2\n",
      "0.71      1\n",
      "0.79      1\n",
      "0.75      1\n",
      "0.78      1\n",
      "1.00      1\n",
      "0.62      1\n",
      "0.72      1\n",
      "Name: citric acid, Length: 80, dtype: int64\n",
      "Number of Unique Values are  80\n",
      "IQR Outliners = \t (array([151], dtype=int64),) \n",
      "\n",
      "_________________________________________\n"
     ]
    },
    {
     "data": {
      "image/png": "[encoded data removed]",
      "text/plain": [
       "<Figure size 432x288 with 2 Axes>"
      ]
     },
     "metadata": {
      "needs_background": "light"
     },
     "output_type": "display_data"
    },
    {
     "name": "stdout",
     "output_type": "stream",
     "text": [
      "_________________________________________\n",
      "\n",
      "______\t residual sugar \t_________\n",
      "Total Values = \t 1599 \n",
      "\n",
      "2.00     156\n",
      "2.20     131\n",
      "1.80     129\n",
      "2.10     128\n",
      "1.90     117\n",
      "2.30     109\n",
      "2.40      86\n",
      "2.50      84\n",
      "2.60      79\n",
      "1.70      76\n",
      "1.60      58\n",
      "2.80      49\n",
      "2.70      39\n",
      "1.40      35\n",
      "1.50      30\n",
      "3.00      25\n",
      "2.90      24\n",
      "3.40      15\n",
      "3.20      15\n",
      "4.00      11\n",
      "3.30      11\n",
      "5.50       8\n",
      "4.30       8\n",
      "3.60       8\n",
      "1.20       8\n",
      "3.80       8\n",
      "3.10       7\n",
      "4.10       6\n",
      "5.60       6\n",
      "3.90       6\n",
      "        ... \n",
      "0.90       2\n",
      "8.10       2\n",
      "6.55       2\n",
      "3.75       1\n",
      "4.25       1\n",
      "7.00       1\n",
      "2.25       1\n",
      "9.00       1\n",
      "7.50       1\n",
      "5.00       1\n",
      "15.50      1\n",
      "2.55       1\n",
      "13.40      1\n",
      "3.45       1\n",
      "2.35       1\n",
      "7.20       1\n",
      "5.15       1\n",
      "4.70       1\n",
      "2.95       1\n",
      "8.60       1\n",
      "5.40       1\n",
      "13.90      1\n",
      "3.65       1\n",
      "12.90      1\n",
      "10.70      1\n",
      "5.70       1\n",
      "2.85       1\n",
      "7.30       1\n",
      "8.90       1\n",
      "2.65       1\n",
      "Name: residual sugar, Length: 91, dtype: int64\n",
      "Number of Unique Values are  91\n",
      "IQR Outliners = \t (array([   9,   11,   14,   15,   18,   33,   35,   39,   40,   55,   57,\n",
      "         64,   65,  154,  155,  156,  157,  163,  164,  192,  215,  269,\n",
      "        270,  271,  272,  274,  275,  277,  278,  279,  283,  324,  325,\n",
      "        327,  353,  364,  366,  374,  375,  378,  395,  396,  400,  408,\n",
      "        409,  413,  415,  442,  455,  480,  484,  494,  501,  502,  510,\n",
      "        515,  516,  538,  539,  541,  554,  555,  556,  557,  558,  559,\n",
      "        564,  595,  606,  608,  624,  625,  645,  649,  652,  659,  690,\n",
      "        705,  719,  740,  800,  878,  884,  889,  903,  904,  910,  911,\n",
      "        913,  917,  923,  941,  944,  946,  974, 1032, 1038, 1043, 1056,\n",
      "       1057, 1059, 1071, 1074, 1077, 1078, 1079, 1081, 1086, 1094, 1096,\n",
      "       1114, 1133, 1138, 1147, 1176, 1186, 1190, 1203, 1226, 1235, 1239,\n",
      "       1244, 1257, 1276, 1288, 1289, 1295, 1296, 1307, 1331, 1358, 1373,\n",
      "       1388, 1394, 1406, 1412, 1423, 1434, 1435, 1437, 1441, 1445, 1471,\n",
      "       1474, 1476, 1478, 1501, 1514, 1515, 1540, 1552, 1558, 1574, 1577,\n",
      "       1589], dtype=int64),) \n",
      "\n",
      "_________________________________________\n"
     ]
    },
    {
     "data": {
      "image/png": "[encoded data removed]",
      "text/plain": [
       "<Figure size 432x288 with 2 Axes>"
      ]
     },
     "metadata": {
      "needs_background": "light"
     },
     "output_type": "display_data"
    },
    {
     "name": "stdout",
     "output_type": "stream",
     "text": [
      "_________________________________________\n",
      "\n",
      "______\t chlorides \t_________\n",
      "Total Values = \t 1599 \n",
      "\n",
      "0.080    66\n",
      "0.074    55\n",
      "0.078    51\n",
      "0.076    51\n",
      "0.084    49\n",
      "0.071    47\n",
      "0.077    47\n",
      "0.082    46\n",
      "0.075    45\n",
      "0.079    43\n",
      "0.081    40\n",
      "0.083    35\n",
      "0.073    35\n",
      "0.070    35\n",
      "0.088    32\n",
      "0.066    32\n",
      "0.086    31\n",
      "0.068    30\n",
      "0.067    27\n",
      "0.087    25\n",
      "0.089    25\n",
      "0.085    25\n",
      "0.072    24\n",
      "0.062    24\n",
      "0.065    23\n",
      "0.095    23\n",
      "0.063    22\n",
      "0.092    22\n",
      "0.093    21\n",
      "0.090    21\n",
      "         ..\n",
      "0.241     1\n",
      "0.113     1\n",
      "0.358     1\n",
      "0.126     1\n",
      "0.136     1\n",
      "0.422     1\n",
      "0.263     1\n",
      "0.034     1\n",
      "0.213     1\n",
      "0.108     1\n",
      "0.176     1\n",
      "0.143     1\n",
      "0.165     1\n",
      "0.169     1\n",
      "0.270     1\n",
      "0.128     1\n",
      "0.051     1\n",
      "0.332     1\n",
      "0.137     1\n",
      "0.236     1\n",
      "0.145     1\n",
      "0.360     1\n",
      "0.168     1\n",
      "0.159     1\n",
      "0.267     1\n",
      "0.043     1\n",
      "0.222     1\n",
      "0.170     1\n",
      "0.368     1\n",
      "0.125     1\n",
      "Name: chlorides, Length: 153, dtype: int64\n",
      "Number of Unique Values are  153\n",
      "IQR Outliners = \t (array([  14,   15,   17,   19,   38,   42,   81,   83,  106,  109,  120,\n",
      "        125,  147,  151,  169,  181,  210,  226,  240,  258,  281,  291,\n",
      "        303,  307,  308,  326,  330,  331,  335,  353,  368,  375,  396,\n",
      "        400,  408,  418,  447,  451,  482,  483,  512,  515,  517,  549,\n",
      "        566,  567,  568,  614,  618,  624,  625,  638,  666,  688,  689,\n",
      "        692,  695,  730,  754,  773,  774,  776,  777,  780,  795,  796,\n",
      "        797,  808,  832,  833,  836,  837,  861,  882,  910,  916,  958,\n",
      "       1014, 1020, 1021, 1051, 1098, 1109, 1146, 1165, 1191, 1193, 1207,\n",
      "       1220, 1221, 1252, 1258, 1259, 1260, 1299, 1319, 1334, 1358, 1370,\n",
      "       1371, 1372, 1374, 1423, 1434, 1435, 1436, 1474, 1476, 1490, 1558,\n",
      "       1570, 1571], dtype=int64),) \n",
      "\n",
      "_________________________________________\n"
     ]
    },
    {
     "data": {
      "image/png": "[encoded data removed]",
      "text/plain": [
       "<Figure size 432x288 with 2 Axes>"
      ]
     },
     "metadata": {
      "needs_background": "light"
     },
     "output_type": "display_data"
    },
    {
     "name": "stdout",
     "output_type": "stream",
     "text": [
      "_________________________________________\n",
      "\n",
      "______\t free sulfur dioxide \t_________\n",
      "Total Values = \t 1599 \n",
      "\n",
      "6.0     138\n",
      "5.0     104\n",
      "10.0     79\n",
      "15.0     78\n",
      "12.0     75\n",
      "7.0      71\n",
      "9.0      62\n",
      "16.0     61\n",
      "17.0     60\n",
      "11.0     59\n",
      "13.0     57\n",
      "8.0      56\n",
      "14.0     50\n",
      "3.0      49\n",
      "18.0     46\n",
      "4.0      41\n",
      "21.0     41\n",
      "19.0     39\n",
      "24.0     34\n",
      "23.0     32\n",
      "26.0     32\n",
      "20.0     30\n",
      "27.0     29\n",
      "25.0     24\n",
      "28.0     23\n",
      "29.0     23\n",
      "32.0     22\n",
      "22.0     22\n",
      "31.0     20\n",
      "34.0     18\n",
      "30.0     16\n",
      "35.0     15\n",
      "33.0     11\n",
      "36.0     11\n",
      "38.0      9\n",
      "41.0      7\n",
      "40.0      6\n",
      "39.0      5\n",
      "48.0      4\n",
      "51.0      4\n",
      "42.0      3\n",
      "43.0      3\n",
      "52.0      3\n",
      "37.0      3\n",
      "1.0       3\n",
      "45.0      3\n",
      "55.0      2\n",
      "37.5      2\n",
      "50.0      2\n",
      "68.0      2\n",
      "5.5       1\n",
      "53.0      1\n",
      "2.0       1\n",
      "54.0      1\n",
      "47.0      1\n",
      "57.0      1\n",
      "72.0      1\n",
      "66.0      1\n",
      "40.5      1\n",
      "46.0      1\n",
      "Name: free sulfur dioxide, dtype: int64\n",
      "Number of Unique Values are  60\n",
      "IQR Outliners = \t (array([  14,   15,   57,  396,  400,  497,  522,  584,  634,  678,  925,\n",
      "        926,  982, 1075, 1131, 1154, 1156, 1175, 1217, 1231, 1244, 1256,\n",
      "       1295, 1296, 1358, 1434, 1435, 1474, 1476, 1558], dtype=int64),) \n",
      "\n",
      "_________________________________________\n"
     ]
    },
    {
     "data": {
      "image/png": "[encoded data removed]",
      "text/plain": [
       "<Figure size 432x288 with 2 Axes>"
      ]
     },
     "metadata": {
      "needs_background": "light"
     },
     "output_type": "display_data"
    },
    {
     "name": "stdout",
     "output_type": "stream",
     "text": [
      "_________________________________________\n",
      "\n",
      "______\t total sulfur dioxide \t_________\n",
      "Total Values = \t 1599 \n",
      "\n",
      "28.0     43\n",
      "24.0     36\n",
      "18.0     35\n",
      "15.0     35\n",
      "23.0     34\n",
      "20.0     33\n",
      "14.0     33\n",
      "31.0     32\n",
      "38.0     31\n",
      "27.0     30\n",
      "19.0     29\n",
      "12.0     29\n",
      "13.0     28\n",
      "25.0     27\n",
      "10.0     27\n",
      "17.0     27\n",
      "16.0     26\n",
      "35.0     26\n",
      "42.0     26\n",
      "11.0     26\n",
      "37.0     26\n",
      "21.0     25\n",
      "22.0     25\n",
      "26.0     24\n",
      "47.0     24\n",
      "44.0     23\n",
      "48.0     21\n",
      "49.0     21\n",
      "32.0     20\n",
      "54.0     20\n",
      "         ..\n",
      "143.0     2\n",
      "127.0     2\n",
      "93.0      2\n",
      "151.0     2\n",
      "115.0     2\n",
      "148.0     2\n",
      "77.5      2\n",
      "114.0     2\n",
      "136.0     2\n",
      "125.0     2\n",
      "83.0      2\n",
      "128.0     2\n",
      "103.0     2\n",
      "134.0     2\n",
      "120.0     2\n",
      "135.0     2\n",
      "155.0     1\n",
      "165.0     1\n",
      "289.0     1\n",
      "153.0     1\n",
      "152.0     1\n",
      "116.0     1\n",
      "130.0     1\n",
      "149.0     1\n",
      "278.0     1\n",
      "142.0     1\n",
      "126.0     1\n",
      "139.0     1\n",
      "140.0     1\n",
      "160.0     1\n",
      "Name: total sulfur dioxide, Length: 144, dtype: int64\n",
      "Number of Unique Values are  144\n",
      "IQR Outliners = \t (array([  14,   15,   86,   88,   90,   91,   92,  109,  130,  145,  154,\n",
      "        155,  156,  157,  188,  189,  190,  192,  201,  219,  313,  354,\n",
      "        396,  400,  415,  417,  463,  515,  522,  523,  591,  636,  637,\n",
      "        649,  651,  672,  684,  694,  723,  741,  771,  772,  791, 1079,\n",
      "       1081, 1131, 1244, 1400, 1401, 1419, 1493, 1496, 1559, 1560, 1561],\n",
      "      dtype=int64),) \n",
      "\n",
      "_________________________________________\n"
     ]
    },
    {
     "data": {
      "image/png": "[encoded data removed]",
      "text/plain": [
       "<Figure size 432x288 with 2 Axes>"
      ]
     },
     "metadata": {
      "needs_background": "light"
     },
     "output_type": "display_data"
    },
    {
     "name": "stdout",
     "output_type": "stream",
     "text": [
      "_________________________________________\n",
      "\n",
      "______\t density \t_________\n",
      "Total Values = \t 1599 \n",
      "\n",
      "0.99720    36\n",
      "0.99760    35\n",
      "0.99680    35\n",
      "0.99800    29\n",
      "0.99620    28\n",
      "0.99780    26\n",
      "0.99640    25\n",
      "0.99700    24\n",
      "0.99940    24\n",
      "0.99660    23\n",
      "0.99820    23\n",
      "0.99740    22\n",
      "0.99840    20\n",
      "0.99880    20\n",
      "0.99860    19\n",
      "0.99690    18\n",
      "0.99730    18\n",
      "0.99630    15\n",
      "0.99560    14\n",
      "0.99550    14\n",
      "0.99790    14\n",
      "0.99580    14\n",
      "0.99590    13\n",
      "0.99670    13\n",
      "0.99710    13\n",
      "0.99600    13\n",
      "0.99960    12\n",
      "0.99870    12\n",
      "0.99650    11\n",
      "0.99538    11\n",
      "           ..\n",
      "1.00289     1\n",
      "0.99120     1\n",
      "0.99479     1\n",
      "0.99473     1\n",
      "0.99727     1\n",
      "0.99649     1\n",
      "0.99385     1\n",
      "0.99523     1\n",
      "0.99667     1\n",
      "0.99410     1\n",
      "0.99486     1\n",
      "0.99426     1\n",
      "0.99582     1\n",
      "0.99020     1\n",
      "0.99162     1\n",
      "0.99332     1\n",
      "0.99938     1\n",
      "0.99573     1\n",
      "0.99459     1\n",
      "0.99517     1\n",
      "0.99665     1\n",
      "0.99521     1\n",
      "0.99719     1\n",
      "0.99705     1\n",
      "0.99722     1\n",
      "0.99384     1\n",
      "0.99252     1\n",
      "0.99823     1\n",
      "0.99417     1\n",
      "0.99581     1\n",
      "Name: density, Length: 436, dtype: int64\n",
      "Number of Unique Values are  436\n",
      "IQR Outliners = \t (array([ 142,  144,  294,  324,  325,  353,  354,  364,  366,  374,  381,\n",
      "        391,  415,  442,  480,  538,  554,  555,  557,  559,  564,  588,\n",
      "        591,  608,  695,  821,  836,  837,  889,  999, 1017, 1018, 1114,\n",
      "       1122, 1126, 1228, 1269, 1270, 1298, 1434, 1435, 1474, 1475, 1476,\n",
      "       1477], dtype=int64),) \n",
      "\n",
      "_________________________________________\n"
     ]
    },
    {
     "data": {
      "image/png": "[encoded data removed]",
      "text/plain": [
       "<Figure size 432x288 with 2 Axes>"
      ]
     },
     "metadata": {
      "needs_background": "light"
     },
     "output_type": "display_data"
    },
    {
     "name": "stdout",
     "output_type": "stream",
     "text": [
      "_________________________________________\n",
      "\n",
      "______\t pH \t_________\n",
      "Total Values = \t 1599 \n",
      "\n",
      "3.30    57\n",
      "3.36    56\n",
      "3.26    53\n",
      "3.38    48\n",
      "3.39    48\n",
      "3.29    46\n",
      "3.32    45\n",
      "3.34    43\n",
      "3.28    42\n",
      "3.35    39\n",
      "3.20    39\n",
      "3.22    39\n",
      "3.31    39\n",
      "3.40    37\n",
      "3.37    37\n",
      "3.33    37\n",
      "3.21    36\n",
      "3.16    36\n",
      "3.27    35\n",
      "3.15    34\n",
      "3.41    34\n",
      "3.42    33\n",
      "3.23    32\n",
      "3.18    30\n",
      "3.44    29\n",
      "3.24    29\n",
      "3.17    27\n",
      "3.25    26\n",
      "3.19    25\n",
      "3.46    22\n",
      "        ..\n",
      "3.03     6\n",
      "3.00     6\n",
      "3.68     5\n",
      "3.01     5\n",
      "2.98     5\n",
      "2.94     4\n",
      "2.92     4\n",
      "3.62     4\n",
      "3.69     4\n",
      "3.66     4\n",
      "3.71     4\n",
      "2.89     4\n",
      "3.72     3\n",
      "3.67     3\n",
      "3.63     3\n",
      "2.93     3\n",
      "4.01     2\n",
      "2.99     2\n",
      "3.78     2\n",
      "2.88     2\n",
      "3.90     2\n",
      "3.85     1\n",
      "3.75     1\n",
      "2.74     1\n",
      "2.86     1\n",
      "2.95     1\n",
      "3.74     1\n",
      "2.87     1\n",
      "2.90     1\n",
      "3.70     1\n",
      "Name: pH, Length: 89, dtype: int64\n",
      "Number of Unique Values are  89\n",
      "IQR Outliners = \t (array([  45,   94,   95,  151,  268,  276,  440,  544,  553,  554,  555,\n",
      "        557,  588,  614,  650,  656,  657,  695,  821,  930,  934,  996,\n",
      "        997, 1017, 1018, 1111, 1270, 1300, 1316, 1319, 1321, 1377, 1470,\n",
      "       1488, 1491], dtype=int64),) \n",
      "\n",
      "_________________________________________\n"
     ]
    },
    {
     "data": {
      "image/png": "[encoded data removed]",
      "text/plain": [
       "<Figure size 432x288 with 2 Axes>"
      ]
     },
     "metadata": {
      "needs_background": "light"
     },
     "output_type": "display_data"
    },
    {
     "name": "stdout",
     "output_type": "stream",
     "text": [
      "_________________________________________\n",
      "\n",
      "______\t sulphates \t_________\n",
      "Total Values = \t 1599 \n",
      "\n",
      "0.60    69\n",
      "0.58    68\n",
      "0.54    68\n",
      "0.62    61\n",
      "0.56    60\n",
      "0.57    55\n",
      "0.59    51\n",
      "0.53    51\n",
      "0.55    50\n",
      "0.63    48\n",
      "0.52    47\n",
      "0.64    46\n",
      "0.61    45\n",
      "0.66    42\n",
      "0.65    41\n",
      "0.67    36\n",
      "0.68    35\n",
      "0.70    33\n",
      "0.49    31\n",
      "0.48    29\n",
      "0.72    28\n",
      "0.50    27\n",
      "0.73    26\n",
      "0.51    26\n",
      "0.74    26\n",
      "0.71    26\n",
      "0.77    26\n",
      "0.76    25\n",
      "0.69    23\n",
      "0.78    23\n",
      "        ..\n",
      "1.95     2\n",
      "0.95     2\n",
      "1.28     2\n",
      "1.13     2\n",
      "1.07     2\n",
      "0.98     2\n",
      "1.10     2\n",
      "1.14     2\n",
      "1.04     2\n",
      "1.03     2\n",
      "1.33     1\n",
      "2.00     1\n",
      "1.34     1\n",
      "1.00     1\n",
      "1.09     1\n",
      "1.59     1\n",
      "1.01     1\n",
      "1.22     1\n",
      "1.12     1\n",
      "1.15     1\n",
      "1.98     1\n",
      "1.62     1\n",
      "1.31     1\n",
      "1.56     1\n",
      "1.16     1\n",
      "1.20     1\n",
      "0.33     1\n",
      "1.26     1\n",
      "1.11     1\n",
      "1.61     1\n",
      "Name: sulphates, Length: 96, dtype: int64\n",
      "Number of Unique Values are  96\n",
      "IQR Outliners = \t (array([  13,   17,   19,   43,   79,   81,   83,   86,   88,   91,   92,\n",
      "        106,  151,  161,  169,  181,  201,  226,  240,  258,  281,  338,\n",
      "        339,  340,  369,  372,  376,  377,  415,  451,  477,  482,  483,\n",
      "        503,  504,  506,  515,  586,  614,  639,  689,  692,  723,  754,\n",
      "        795,  852, 1051, 1158, 1165, 1260, 1288, 1289, 1319, 1367, 1370,\n",
      "       1371, 1372, 1403, 1408], dtype=int64),) \n",
      "\n",
      "_________________________________________\n"
     ]
    },
    {
     "data": {
      "image/png": "[encoded data removed]",
      "text/plain": [
       "<Figure size 432x288 with 2 Axes>"
      ]
     },
     "metadata": {
      "needs_background": "light"
     },
     "output_type": "display_data"
    },
    {
     "name": "stdout",
     "output_type": "stream",
     "text": [
      "_________________________________________\n",
      "\n",
      "______\t alcohol \t_________\n",
      "Total Values = \t 1599 \n",
      "\n",
      "9.500000     139\n",
      "9.400000     103\n",
      "9.800000      78\n",
      "9.200000      72\n",
      "10.000000     67\n",
      "10.500000     67\n",
      "9.300000      59\n",
      "11.000000     59\n",
      "9.600000      59\n",
      "9.700000      54\n",
      "9.900000      49\n",
      "10.900000     49\n",
      "10.100000     47\n",
      "10.200000     46\n",
      "10.800000     42\n",
      "10.400000     41\n",
      "11.200000     36\n",
      "10.300000     33\n",
      "11.300000     32\n",
      "11.400000     32\n",
      "11.500000     30\n",
      "9.000000      30\n",
      "11.800000     29\n",
      "10.600000     28\n",
      "10.700000     27\n",
      "11.100000     27\n",
      "11.700000     23\n",
      "9.100000      23\n",
      "12.500000     21\n",
      "12.000000     21\n",
      "            ... \n",
      "12.300000     12\n",
      "12.200000     12\n",
      "12.900000      9\n",
      "12.700000      9\n",
      "14.000000      7\n",
      "13.000000      6\n",
      "12.600000      6\n",
      "13.600000      4\n",
      "13.400000      3\n",
      "13.300000      3\n",
      "8.400000       2\n",
      "9.550000       2\n",
      "8.800000       2\n",
      "8.700000       2\n",
      "13.100000      2\n",
      "10.550000      2\n",
      "10.033333      2\n",
      "10.750000      1\n",
      "9.250000       1\n",
      "8.500000       1\n",
      "13.500000      1\n",
      "9.233333       1\n",
      "11.950000      1\n",
      "9.566667       1\n",
      "9.050000       1\n",
      "13.566667      1\n",
      "14.900000      1\n",
      "11.066667      1\n",
      "9.950000       1\n",
      "13.200000      1\n",
      "Name: alcohol, Length: 65, dtype: int64\n",
      "Number of Unique Values are  65\n",
      "IQR Outliners = \t (array([ 142,  144,  467,  588,  652,  821, 1114, 1132, 1228, 1269, 1270,\n",
      "       1475, 1477], dtype=int64),) \n",
      "\n",
      "_________________________________________\n"
     ]
    },
    {
     "data": {
      "image/png": "[encoded data removed]",
      "text/plain": [
       "<Figure size 432x288 with 2 Axes>"
      ]
     },
     "metadata": {
      "needs_background": "light"
     },
     "output_type": "display_data"
    },
    {
     "name": "stdout",
     "output_type": "stream",
     "text": [
      "_________________________________________\n",
      "\n",
      "______\t quality \t_________\n",
      "Total Values = \t 1599 \n",
      "\n",
      "5    681\n",
      "6    638\n",
      "7    199\n",
      "4     53\n",
      "8     18\n",
      "3     10\n",
      "Name: quality, dtype: int64\n",
      "Number of Unique Values are  6\n",
      "IQR Outliners = \t (array([ 267,  278,  390,  440,  455,  459,  481,  495,  498,  517,  588,\n",
      "        690,  828,  832,  899, 1061, 1090, 1120, 1202, 1269, 1299, 1374,\n",
      "       1403, 1449, 1469, 1478, 1505, 1549], dtype=int64),) \n",
      "\n",
      "_________________________________________\n"
     ]
    },
    {
     "data": {
      "image/png": "[encoded data removed]",
      "text/plain": [
       "<Figure size 432x288 with 2 Axes>"
      ]
     },
     "metadata": {
      "needs_background": "light"
     },
     "output_type": "display_data"
    },
    {
     "name": "stdout",
     "output_type": "stream",
     "text": [
      "_________________________________________\n"
     ]
    }
   ],
   "source": [
    "display_field_info(numerical_cat)"
   ]
  },
  {
   "cell_type": "code",
   "execution_count": 9,
   "metadata": {},
   "outputs": [],
   "source": [
    "# target attribute\n",
    "target_attribute_name = 'quality'\n",
    "target = et5_df[target_attribute_name]\n",
    "\n",
    "# predictor attributes\n",
    "predictors = et5_df.drop(target_attribute_name, axis=1).values\n",
    "\n",
    "# scale all predictor values to the range [0, 1]\n",
    "# note the target attribute is already binary\n",
    "standard_scaler = preprocessing.StandardScaler()\n",
    "predictors = standard_scaler.fit_transform(predictors)"
   ]
  },
  {
   "cell_type": "markdown",
   "metadata": {},
   "source": [
    "Split the data set into a training (80%) and test (20%) data sets."
   ]
  },
  {
   "cell_type": "code",
   "execution_count": 10,
   "metadata": {},
   "outputs": [],
   "source": [
    "# pepare independent stratified data sets for training and test of the final model\n",
    "predictors_train, predictors_test, target_train, target_test = train_test_split(predictors, target, test_size=0.20, shuffle=True, stratify=target, random_state=0)"
   ]
  },
  {
   "cell_type": "markdown",
   "metadata": {},
   "source": [
    "## B. Feature Selection"
   ]
  },
  {
   "cell_type": "markdown",
   "metadata": {},
   "source": [
    "#### 1. Apply RFE with SVM for selecting the best features"
   ]
  },
  {
   "cell_type": "code",
   "execution_count": 11,
   "metadata": {},
   "outputs": [
    {
     "name": "stdout",
     "output_type": "stream",
     "text": [
      "[False  True False False False False False False False  True  True]\n",
      "[3 1 7 5 2 8 6 4 9 1 1]\n"
     ]
    }
   ],
   "source": [
    "# create a base classifier used to evaluate a subset of attributes\n",
    "estimatorSVM = svm.SVR(kernel=\"linear\")\n",
    "selectorSVM = RFE(estimatorSVM, 3)\n",
    "selectorSVM = selectorSVM.fit(predictors_train, target_train)\n",
    "# summarize the selection of the attributes\n",
    "print(selectorSVM.support_)\n",
    "print(selectorSVM.ranking_)"
   ]
  },
  {
   "cell_type": "markdown",
   "metadata": {},
   "source": [
    "#### 2. Apply RFE with Logistic Regression for selecting the best features"
   ]
  },
  {
   "cell_type": "code",
   "execution_count": 12,
   "metadata": {},
   "outputs": [
    {
     "name": "stdout",
     "output_type": "stream",
     "text": [
      "[False  True False False False False  True False False False  True]\n",
      "[5 1 9 7 3 8 1 6 4 2 1]\n"
     ]
    }
   ],
   "source": [
    "# create a base classifier used to evaluate a subset of attributes\n",
    "estimatorLR = LogisticRegression()\n",
    "# create the RFE model and select 3 attributes\n",
    "selectorLR = RFE(estimatorLR, 3)\n",
    "selectorLR = selectorLR.fit(predictors_train, target_train)\n",
    "# summarize the selection of the attributes\n",
    "print(selectorLR.support_)\n",
    "print(selectorLR.ranking_)"
   ]
  },
  {
   "cell_type": "code",
   "execution_count": 13,
   "metadata": {},
   "outputs": [],
   "source": [
    "predictors_train_SVMselected = selectorSVM.transform(predictors_train)\n",
    "predictors_test_SVMselected = selectorSVM.transform(predictors_test)"
   ]
  },
  {
   "cell_type": "code",
   "execution_count": 14,
   "metadata": {},
   "outputs": [],
   "source": [
    "predictors_train_LRselected = selectorLR.transform(predictors_train)\n",
    "predictors_test_LRselected = selectorLR.transform(predictors_test)"
   ]
  },
  {
   "cell_type": "markdown",
   "metadata": {},
   "source": [
    "### Train and evaluate SVM classifiers with both the selected features and all features \n",
    "\n",
    "Here we train three models:\n",
    "* model1 - with the features selected by SVM\n",
    "* model2 - with the features selected by Logistic Regression\n",
    "* model3 - with all features (i.e. without feature selection)"
   ]
  },
  {
   "cell_type": "code",
   "execution_count": 15,
   "metadata": {},
   "outputs": [],
   "source": [
    "classifier = svm.SVC()"
   ]
  },
  {
   "cell_type": "code",
   "execution_count": 16,
   "metadata": {},
   "outputs": [
    {
     "data": {
      "text/plain": [
       "0.615625"
      ]
     },
     "execution_count": 16,
     "metadata": {},
     "output_type": "execute_result"
    }
   ],
   "source": [
    "svm_model = classifier.fit(predictors_train_SVMselected, target_train)\n",
    "svm_model.score(predictors_test_SVMselected, target_test)"
   ]
  },
  {
   "cell_type": "code",
   "execution_count": 17,
   "metadata": {},
   "outputs": [
    {
     "data": {
      "text/plain": [
       "0.5875"
      ]
     },
     "execution_count": 17,
     "metadata": {},
     "output_type": "execute_result"
    }
   ],
   "source": [
    "LR_model = classifier.fit(predictors_train_LRselected, target_train)\n",
    "LR_model.score(predictors_test_LRselected, target_test)"
   ]
  },
  {
   "cell_type": "code",
   "execution_count": 18,
   "metadata": {},
   "outputs": [
    {
     "data": {
      "text/plain": [
       "0.65"
      ]
     },
     "execution_count": 18,
     "metadata": {},
     "output_type": "execute_result"
    }
   ],
   "source": [
    "withoutfeature_model = classifier.fit(predictors_train, target_train)\n",
    "withoutfeature_model.score(predictors_test, target_test)"
   ]
  },
  {
   "cell_type": "markdown",
   "metadata": {},
   "source": [
    " # Task 1 (CS5062)\n",
    "* Repeat the experiment in Etivity5-Feature Selection.ipynb with winequality_red.csv and draw initial conclusions from the results you observe.\n",
    "* Download the Jupyter notebook Etivity5-Feature Selection and the data set seeds_dataset_binary.csv from GitLab and look through the notebook.\n",
    "* Download the data set winequality_red.csv from GitLab. This is one of the public UCI datasets."
   ]
  },
  {
   "cell_type": "markdown",
   "metadata": {},
   "source": [
    "# Task 1 Comment"
   ]
  },
  {
   "cell_type": "markdown",
   "metadata": {},
   "source": [
    "The initial predictions scores show that scores without features is higher with a prediction score of .66 in comparision to SVM score of 61.25 and Linear Regression both scoring .61875"
   ]
  },
  {
   "cell_type": "markdown",
   "metadata": {},
   "source": [
    "# Task 2 (CS5062)\n",
    "* Repeat the experiment in Etivity5-Feature Selection.ipynb with winequality_red.csv but this time run the whole experiment in a loop with different training/test stratified splits. \n",
    "* Evaluate the three models for each iteration of the loop separately and boxplot the accuracies of the models for each iteration. \n",
    "* Compare the results of this experiment to the results of Task 1 in a markdown cell (max 150 words)."
   ]
  },
  {
   "cell_type": "code",
   "execution_count": 19,
   "metadata": {},
   "outputs": [
    {
     "data": {
      "image/png": "[encoded data removed]",
      "text/plain": [
       "<Figure size 432x288 with 1 Axes>"
      ]
     },
     "metadata": {
      "needs_background": "light"
     },
     "output_type": "display_data"
    },
    {
     "data": {
      "image/png": "[encoded data removed]",
      "text/plain": [
       "<Figure size 432x288 with 1 Axes>"
      ]
     },
     "metadata": {
      "needs_background": "light"
     },
     "output_type": "display_data"
    },
    {
     "data": {
      "image/png": "[encoded data removed]",
      "text/plain": [
       "<Figure size 432x288 with 1 Axes>"
      ]
     },
     "metadata": {
      "needs_background": "light"
     },
     "output_type": "display_data"
    },
    {
     "data": {
      "image/png": "[encoded data removed]",
      "text/plain": [
       "<Figure size 432x288 with 1 Axes>"
      ]
     },
     "metadata": {
      "needs_background": "light"
     },
     "output_type": "display_data"
    },
    {
     "data": {
      "image/png": "[encoded data removed]",
      "text/plain": [
       "<Figure size 432x288 with 1 Axes>"
      ]
     },
     "metadata": {
      "needs_background": "light"
     },
     "output_type": "display_data"
    },
    {
     "data": {
      "image/png": "[encoded data removed]",
      "text/plain": [
       "<Figure size 432x288 with 1 Axes>"
      ]
     },
     "metadata": {
      "needs_background": "light"
     },
     "output_type": "display_data"
    },
    {
     "data": {
      "image/png": "[encoded data removed]",
      "text/plain": [
       "<Figure size 432x288 with 1 Axes>"
      ]
     },
     "metadata": {
      "needs_background": "light"
     },
     "output_type": "display_data"
    },
    {
     "data": {
      "image/png": "[encoded data removed]",
      "text/plain": [
       "<Figure size 432x288 with 1 Axes>"
      ]
     },
     "metadata": {
      "needs_background": "light"
     },
     "output_type": "display_data"
    },
    {
     "data": {
      "image/png": "[encoded data removed]",
      "text/plain": [
       "<Figure size 432x288 with 1 Axes>"
      ]
     },
     "metadata": {
      "needs_background": "light"
     },
     "output_type": "display_data"
    },
    {
     "data": {
      "image/png": "[encoded data removed]",
      "text/plain": [
       "<Figure size 432x288 with 1 Axes>"
      ]
     },
     "metadata": {
      "needs_background": "light"
     },
     "output_type": "display_data"
    }
   ],
   "source": [
    "# basing on cormacs approach\n",
    "for i in range(2,12):\n",
    "    SVM_scores = []\n",
    "    LR_scores = []\n",
    "    allf_scores = []\n",
    "    for j in range(10):\n",
    "        skf = StratifiedKFold(n_splits=i, shuffle=True)\n",
    "        skf.get_n_splits(predictors, target)\n",
    "        for train_index, test_index in skf.split(predictors, target):\n",
    "            predictors_train, predictors_test = predictors[train_index], predictors[test_index]\n",
    "            target_train, target_test = target[train_index], target[test_index]\n",
    "            predictors_train_SVMselected = selectorSVM.transform(predictors_train)\n",
    "            predictors_test_SVMselected = selectorSVM.transform(predictors_test)\n",
    "            predictors_train_LRselected = selectorLR.transform(predictors_train)\n",
    "            predictors_test_LRselected = selectorLR.transform(predictors_test)\n",
    "            classifier = svm.SVC()\n",
    "            model1 = classifier.fit(predictors_train_SVMselected, target_train)\n",
    "            SVM_scores.append(model1.score(predictors_test_SVMselected, target_test))\n",
    "            model2 = classifier.fit(predictors_train_LRselected, target_train)\n",
    "            LR_scores.append(model2.score(predictors_test_LRselected, target_test))\n",
    "            model3 = classifier.fit(predictors_train, target_train)\n",
    "            allf_scores.append(model3.score(predictors_test, target_test))\n",
    "    \n",
    "    df = pd.DataFrame({\n",
    "        'SVM Selected': SVM_scores,\n",
    "        'Linear Regression Selected' : LR_scores,\n",
    "        'All attributes' : allf_scores\n",
    "    })\n",
    "    df.boxplot()\n",
    "    plt.title(\"Various Model Accuracy with {} KFolds\".format(i))\n",
    "    plt.ylabel(\"accuracy\")\n",
    "    plt.show()"
   ]
  },
  {
   "cell_type": "markdown",
   "metadata": {},
   "source": [
    "# Task 2 Comment"
   ]
  },
  {
   "cell_type": "code",
   "execution_count": null,
   "metadata": {},
   "outputs": [],
   "source": []
  },
  {
   "cell_type": "markdown",
   "metadata": {},
   "source": [
    "# Task 3 (CS5062)\n",
    "* Build two pipelines for training classifiers for the dataset winequality_red.csv and summarise the results from training classifiers with the pipelines in a markdown cell (max 150 words). \n",
    "* The two pipelines should include feature-selection methods, and the feature-selection method in pipeline 1 should be different from the feature-selection method in pipeline 2."
   ]
  },
  {
   "cell_type": "code",
   "execution_count": 20,
   "metadata": {},
   "outputs": [],
   "source": [
    "X_train, X_test, y_train, y_test = train_test_split(predictors,target, test_size=0.2, random_state=0, stratify=target)"
   ]
  },
  {
   "cell_type": "markdown",
   "metadata": {},
   "source": [
    "# Pipeline One"
   ]
  },
  {
   "cell_type": "code",
   "execution_count": 21,
   "metadata": {},
   "outputs": [
    {
     "name": "stdout",
     "output_type": "stream",
     "text": [
      "0.5644928599374022\n"
     ]
    }
   ],
   "source": [
    "# Create pipeline one\n",
    "pipeline_one = Pipeline([\n",
    "      ('feature_selection', SelectFromModel(svm.LinearSVC())),\n",
    "      ('logistic_regression', LogisticRegression())\n",
    "])\n",
    "pipeline_one.fit(X_train,y_train)\n",
    "# validate pipeline one\n",
    "kfold = KFold(n_splits=2, random_state=0)\n",
    "X_train_val = cross_val_score(pipeline_one, X_train,y_train, cv=kfold)\n",
    "print(X_train_val.mean())"
   ]
  },
  {
   "cell_type": "code",
   "execution_count": 22,
   "metadata": {},
   "outputs": [],
   "source": [
    "y_predict_one = pipeline_one.predict(X_train)"
   ]
  },
  {
   "cell_type": "code",
   "execution_count": 23,
   "metadata": {},
   "outputs": [
    {
     "name": "stdout",
     "output_type": "stream",
     "text": [
      "0.5660672400312744\n"
     ]
    }
   ],
   "source": [
    "linear_reg_score_train = pipeline_one.score(X_train, y_train)\n",
    "print(linear_reg_score_train)"
   ]
  },
  {
   "cell_type": "code",
   "execution_count": 24,
   "metadata": {},
   "outputs": [
    {
     "name": "stdout",
     "output_type": "stream",
     "text": [
      "0.565625\n"
     ]
    }
   ],
   "source": [
    "linear_reg_score_test = pipeline_one.score(X_test, y_test)\n",
    "print(linear_reg_score_test)"
   ]
  },
  {
   "cell_type": "markdown",
   "metadata": {},
   "source": [
    "# Pipeline two"
   ]
  },
  {
   "cell_type": "code",
   "execution_count": 25,
   "metadata": {},
   "outputs": [],
   "source": [
    "features = []\n",
    "features.append(('SelectFromModel', SelectFromModel(GradientBoostingClassifier())))\n",
    "features.append(('select_lassso', SelectFromModel(LassoCV())))\n",
    "feature_union = FeatureUnion(features)\n",
    "\n",
    "# Create pipeline\n",
    "estimators = []\n",
    "estimators.append(('feature_union', feature_union))\n",
    "estimators.append(('logistic_regression', LogisticRegression()))\n",
    "\n",
    "pipeline_two = Pipeline(estimators)\n",
    "\n",
    "# Evaluate pipeline\n",
    "pipeline_two.fit(predictors_train, target_train)\n",
    "pipeline_two_y_pred = pipeline_two.predict(predictors_test)"
   ]
  },
  {
   "cell_type": "code",
   "execution_count": 26,
   "metadata": {},
   "outputs": [],
   "source": [
    "pipeline_two_score_train = pipeline_two.score(predictors_train, target_train)"
   ]
  },
  {
   "cell_type": "code",
   "execution_count": 27,
   "metadata": {},
   "outputs": [],
   "source": [
    "pipeline_two_score_test = pipeline_two.score(predictors_test, target_test)"
   ]
  },
  {
   "cell_type": "markdown",
   "metadata": {},
   "source": [
    "# Task 3 Comment"
   ]
  },
  {
   "cell_type": "code",
   "execution_count": null,
   "metadata": {},
   "outputs": [],
   "source": []
  }
 ],
 "metadata": {
  "kernelspec": {
   "display_name": "Python 3",
   "language": "python",
   "name": "python3"
  },
  "language_info": {
   "codemirror_mode": {
    "name": "ipython",
    "version": 3
   },
   "file_extension": ".py",
   "mimetype": "text/x-python",
   "name": "python",
   "nbconvert_exporter": "python",
   "pygments_lexer": "ipython3",
   "version": "3.7.1"
  }
 },
 "nbformat": 4,
 "nbformat_minor": 2
}
