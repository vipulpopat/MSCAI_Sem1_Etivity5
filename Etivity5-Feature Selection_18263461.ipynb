{
 "cells": [
  {
   "cell_type": "markdown",
   "metadata": {},
   "source": [
    "#### Msc AI - Sem 1 - Etivity 5\n",
    "\n",
    "Name:Michel Danjou\n",
    "\n",
    "ID:18263461\n"
   ]
  },
  {
   "cell_type": "markdown",
   "metadata": {},
   "source": [
    "# Lab 5: Feature Selection "
   ]
  },
  {
   "cell_type": "markdown",
   "metadata": {},
   "source": [
    "This notebook builds on top of Lab 4 by introducing feature selection into the process of selecting the best classifier for a binary classification problem.\n",
    "\n",
    "The feature selection method applied here is Recursive Feature Elimination (RFE) as demonstrated in the tutorial at https://machinelearningmastery.com/feature-selection-in-python-with-scikit-learn/.\n",
    "\n",
    "In this demonstration we use a modified version of the seeds data set (see https://archive.ics.uci.edu/ml/datasets/seeds), which is the same data set used in Lab 4."
   ]
  },
  {
   "cell_type": "markdown",
   "metadata": {},
   "source": [
    "## A. Preparation"
   ]
  },
  {
   "cell_type": "markdown",
   "metadata": {},
   "source": [
    "### Import Python modules"
   ]
  },
  {
   "cell_type": "code",
   "execution_count": 1,
   "metadata": {},
   "outputs": [
    {
     "name": "stderr",
     "output_type": "stream",
     "text": [
      "C:\\Users\\danjou\\AppData\\Local\\Continuum\\anaconda3\\lib\\site-packages\\sklearn\\ensemble\\weight_boosting.py:29: DeprecationWarning: numpy.core.umath_tests is an internal NumPy module and should not be imported. It will be removed in a future NumPy release.\n",
      "  from numpy.core.umath_tests import inner1d\n"
     ]
    }
   ],
   "source": [
    "import pandas as pd\n",
    "import numpy as np\n",
    "\n",
    "from sklearn import preprocessing #needed for scaling attributes to the nterval [0,1]\n",
    "\n",
    "from sklearn import svm\n",
    "from sklearn.linear_model import LogisticRegression\n",
    "from sklearn.ensemble import RandomForestClassifier\n",
    "from sklearn.feature_selection import RFE\n",
    "\n",
    "from sklearn.model_selection import train_test_split\n",
    "\n",
    "import matplotlib.pyplot as plt\n",
    "\n",
    "from sklearn.model_selection import KFold\n",
    "from sklearn.model_selection import cross_val_score\n",
    "from sklearn.pipeline import Pipeline\n",
    "from sklearn.pipeline import FeatureUnion\n",
    "from sklearn.linear_model import LogisticRegression\n",
    "from sklearn.decomposition import PCA\n",
    "from sklearn.feature_selection import SelectKBest"
   ]
  },
  {
   "cell_type": "markdown",
   "metadata": {},
   "source": [
    "# Task 1\n",
    "\n",
    "  * Repeat the experiment in Etivity5-Feature Selection.ipynb with winequality_red.csv and draw initial conclusions from the results you observe.\n",
    "\n",
    "  * Rubric: None\n",
    "\n",
    "  * Download the Jupyter notebook Etivity5-Feature Selection and the data set seeds_dataset_binary.csv from GitLab and look through the notebook.\n",
    "  \n",
    "  * Download the data set winequality_red.csv from GitLab. This is one of the public UCI datasets.\n",
    " "
   ]
  },
  {
   "cell_type": "markdown",
   "metadata": {},
   "source": [
    "## A. Preparation"
   ]
  },
  {
   "cell_type": "markdown",
   "metadata": {},
   "source": [
    "### Load and prepare the dataset for training and evaluation\n",
    "Feel free to apply any other pre-processing technique at this point."
   ]
  },
  {
   "cell_type": "code",
   "execution_count": 2,
   "metadata": {},
   "outputs": [
    {
     "data": {
      "text/html": [
       "<div>\n",
       "<style scoped>\n",
       "    .dataframe tbody tr th:only-of-type {\n",
       "        vertical-align: middle;\n",
       "    }\n",
       "\n",
       "    .dataframe tbody tr th {\n",
       "        vertical-align: top;\n",
       "    }\n",
       "\n",
       "    .dataframe thead th {\n",
       "        text-align: right;\n",
       "    }\n",
       "</style>\n",
       "<table border=\"1\" class=\"dataframe\">\n",
       "  <thead>\n",
       "    <tr style=\"text-align: right;\">\n",
       "      <th></th>\n",
       "      <th>fixed acidity</th>\n",
       "      <th>volatile acidity</th>\n",
       "      <th>citric acid</th>\n",
       "      <th>residual sugar</th>\n",
       "      <th>chlorides</th>\n",
       "      <th>free sulfur dioxide</th>\n",
       "      <th>total sulfur dioxide</th>\n",
       "      <th>density</th>\n",
       "      <th>pH</th>\n",
       "      <th>sulphates</th>\n",
       "      <th>alcohol</th>\n",
       "      <th>quality</th>\n",
       "    </tr>\n",
       "  </thead>\n",
       "  <tbody>\n",
       "    <tr>\n",
       "      <th>count</th>\n",
       "      <td>1599.000000</td>\n",
       "      <td>1599.000000</td>\n",
       "      <td>1599.000000</td>\n",
       "      <td>1599.000000</td>\n",
       "      <td>1599.000000</td>\n",
       "      <td>1599.000000</td>\n",
       "      <td>1599.000000</td>\n",
       "      <td>1599.000000</td>\n",
       "      <td>1599.000000</td>\n",
       "      <td>1599.000000</td>\n",
       "      <td>1599.000000</td>\n",
       "      <td>1599.000000</td>\n",
       "    </tr>\n",
       "    <tr>\n",
       "      <th>mean</th>\n",
       "      <td>8.319637</td>\n",
       "      <td>0.527821</td>\n",
       "      <td>0.270976</td>\n",
       "      <td>2.538806</td>\n",
       "      <td>0.087467</td>\n",
       "      <td>15.874922</td>\n",
       "      <td>46.467792</td>\n",
       "      <td>0.996747</td>\n",
       "      <td>3.311113</td>\n",
       "      <td>0.658149</td>\n",
       "      <td>10.422983</td>\n",
       "      <td>5.636023</td>\n",
       "    </tr>\n",
       "    <tr>\n",
       "      <th>std</th>\n",
       "      <td>1.741096</td>\n",
       "      <td>0.179060</td>\n",
       "      <td>0.194801</td>\n",
       "      <td>1.409928</td>\n",
       "      <td>0.047065</td>\n",
       "      <td>10.460157</td>\n",
       "      <td>32.895324</td>\n",
       "      <td>0.001887</td>\n",
       "      <td>0.154386</td>\n",
       "      <td>0.169507</td>\n",
       "      <td>1.065668</td>\n",
       "      <td>0.807569</td>\n",
       "    </tr>\n",
       "    <tr>\n",
       "      <th>min</th>\n",
       "      <td>4.600000</td>\n",
       "      <td>0.120000</td>\n",
       "      <td>0.000000</td>\n",
       "      <td>0.900000</td>\n",
       "      <td>0.012000</td>\n",
       "      <td>1.000000</td>\n",
       "      <td>6.000000</td>\n",
       "      <td>0.990070</td>\n",
       "      <td>2.740000</td>\n",
       "      <td>0.330000</td>\n",
       "      <td>8.400000</td>\n",
       "      <td>3.000000</td>\n",
       "    </tr>\n",
       "    <tr>\n",
       "      <th>25%</th>\n",
       "      <td>7.100000</td>\n",
       "      <td>0.390000</td>\n",
       "      <td>0.090000</td>\n",
       "      <td>1.900000</td>\n",
       "      <td>0.070000</td>\n",
       "      <td>7.000000</td>\n",
       "      <td>22.000000</td>\n",
       "      <td>0.995600</td>\n",
       "      <td>3.210000</td>\n",
       "      <td>0.550000</td>\n",
       "      <td>9.500000</td>\n",
       "      <td>5.000000</td>\n",
       "    </tr>\n",
       "    <tr>\n",
       "      <th>50%</th>\n",
       "      <td>7.900000</td>\n",
       "      <td>0.520000</td>\n",
       "      <td>0.260000</td>\n",
       "      <td>2.200000</td>\n",
       "      <td>0.079000</td>\n",
       "      <td>14.000000</td>\n",
       "      <td>38.000000</td>\n",
       "      <td>0.996750</td>\n",
       "      <td>3.310000</td>\n",
       "      <td>0.620000</td>\n",
       "      <td>10.200000</td>\n",
       "      <td>6.000000</td>\n",
       "    </tr>\n",
       "    <tr>\n",
       "      <th>75%</th>\n",
       "      <td>9.200000</td>\n",
       "      <td>0.640000</td>\n",
       "      <td>0.420000</td>\n",
       "      <td>2.600000</td>\n",
       "      <td>0.090000</td>\n",
       "      <td>21.000000</td>\n",
       "      <td>62.000000</td>\n",
       "      <td>0.997835</td>\n",
       "      <td>3.400000</td>\n",
       "      <td>0.730000</td>\n",
       "      <td>11.100000</td>\n",
       "      <td>6.000000</td>\n",
       "    </tr>\n",
       "    <tr>\n",
       "      <th>max</th>\n",
       "      <td>15.900000</td>\n",
       "      <td>1.580000</td>\n",
       "      <td>1.000000</td>\n",
       "      <td>15.500000</td>\n",
       "      <td>0.611000</td>\n",
       "      <td>72.000000</td>\n",
       "      <td>289.000000</td>\n",
       "      <td>1.003690</td>\n",
       "      <td>4.010000</td>\n",
       "      <td>2.000000</td>\n",
       "      <td>14.900000</td>\n",
       "      <td>8.000000</td>\n",
       "    </tr>\n",
       "  </tbody>\n",
       "</table>\n",
       "</div>"
      ],
      "text/plain": [
       "       fixed acidity  volatile acidity  citric acid  residual sugar  \\\n",
       "count    1599.000000       1599.000000  1599.000000     1599.000000   \n",
       "mean        8.319637          0.527821     0.270976        2.538806   \n",
       "std         1.741096          0.179060     0.194801        1.409928   \n",
       "min         4.600000          0.120000     0.000000        0.900000   \n",
       "25%         7.100000          0.390000     0.090000        1.900000   \n",
       "50%         7.900000          0.520000     0.260000        2.200000   \n",
       "75%         9.200000          0.640000     0.420000        2.600000   \n",
       "max        15.900000          1.580000     1.000000       15.500000   \n",
       "\n",
       "         chlorides  free sulfur dioxide  total sulfur dioxide      density  \\\n",
       "count  1599.000000          1599.000000           1599.000000  1599.000000   \n",
       "mean      0.087467            15.874922             46.467792     0.996747   \n",
       "std       0.047065            10.460157             32.895324     0.001887   \n",
       "min       0.012000             1.000000              6.000000     0.990070   \n",
       "25%       0.070000             7.000000             22.000000     0.995600   \n",
       "50%       0.079000            14.000000             38.000000     0.996750   \n",
       "75%       0.090000            21.000000             62.000000     0.997835   \n",
       "max       0.611000            72.000000            289.000000     1.003690   \n",
       "\n",
       "                pH    sulphates      alcohol      quality  \n",
       "count  1599.000000  1599.000000  1599.000000  1599.000000  \n",
       "mean      3.311113     0.658149    10.422983     5.636023  \n",
       "std       0.154386     0.169507     1.065668     0.807569  \n",
       "min       2.740000     0.330000     8.400000     3.000000  \n",
       "25%       3.210000     0.550000     9.500000     5.000000  \n",
       "50%       3.310000     0.620000    10.200000     6.000000  \n",
       "75%       3.400000     0.730000    11.100000     6.000000  \n",
       "max       4.010000     2.000000    14.900000     8.000000  "
      ]
     },
     "execution_count": 2,
     "metadata": {},
     "output_type": "execute_result"
    }
   ],
   "source": [
    "lab5_df = pd.read_csv(\"./winequality_red.csv\")\n",
    "lab5_df.describe()"
   ]
  },
  {
   "cell_type": "code",
   "execution_count": 3,
   "metadata": {},
   "outputs": [],
   "source": [
    "# target attribute\n",
    "target_attribute_name = 'quality'\n",
    "target = lab5_df[target_attribute_name]\n",
    "\n",
    "# predictor attributes\n",
    "predictors = lab5_df.drop(target_attribute_name, axis=1).values"
   ]
  },
  {
   "cell_type": "markdown",
   "metadata": {},
   "source": [
    "Split the data set into a training (80%) and test (20%) data sets."
   ]
  },
  {
   "cell_type": "code",
   "execution_count": 4,
   "metadata": {},
   "outputs": [],
   "source": [
    "# pepare independent stratified data sets for training and test of the final model\n",
    "predictors_train, predictors_test, target_train, target_test = train_test_split(\n",
    "    predictors, target, test_size=0.20, shuffle=True, stratify=target)"
   ]
  },
  {
   "cell_type": "code",
   "execution_count": 5,
   "metadata": {},
   "outputs": [],
   "source": [
    "# scale all predictor values to the range [0, 1] after calling train_test_split() to avoid data snooping\n",
    "min_max_scaler = preprocessing.MinMaxScaler()\n",
    "\n",
    "predictors_train = min_max_scaler.fit_transform(predictors_train)\n",
    "predictors_test = min_max_scaler.fit_transform(predictors_test)"
   ]
  },
  {
   "cell_type": "code",
   "execution_count": 6,
   "metadata": {},
   "outputs": [
    {
     "data": {
      "text/plain": [
       "5    681\n",
       "6    638\n",
       "7    199\n",
       "4     53\n",
       "8     18\n",
       "3     10\n",
       "Name: quality, dtype: int64"
      ]
     },
     "execution_count": 6,
     "metadata": {},
     "output_type": "execute_result"
    }
   ],
   "source": [
    "target.value_counts()"
   ]
  },
  {
   "cell_type": "markdown",
   "metadata": {},
   "source": [
    "## B. Feature Selection"
   ]
  },
  {
   "cell_type": "markdown",
   "metadata": {},
   "source": [
    "#### 1. Apply RFE with SVM for selecting the best features"
   ]
  },
  {
   "cell_type": "code",
   "execution_count": 7,
   "metadata": {},
   "outputs": [
    {
     "name": "stdout",
     "output_type": "stream",
     "text": [
      "[False  True False False False False False False False  True  True]\n",
      "[3 1 9 5 2 7 6 4 8 1 1]\n"
     ]
    }
   ],
   "source": [
    "# create a base classifier used to evaluate a subset of attributes\n",
    "estimatorSVM = svm.SVR(kernel=\"linear\")\n",
    "selectorSVM = RFE(estimatorSVM, 3)\n",
    "selectorSVM = selectorSVM.fit(predictors_train, target_train)\n",
    "# summarize the selection of the attributes\n",
    "print(selectorSVM.support_)\n",
    "print(selectorSVM.ranking_)"
   ]
  },
  {
   "cell_type": "markdown",
   "metadata": {},
   "source": [
    "#### 2. Apply RFE with Logistic Regression for selecting the best features"
   ]
  },
  {
   "cell_type": "code",
   "execution_count": 8,
   "metadata": {},
   "outputs": [
    {
     "name": "stdout",
     "output_type": "stream",
     "text": [
      "[False  True False False False False  True False False False  True]\n",
      "[7 1 4 8 5 9 1 3 6 2 1]\n"
     ]
    }
   ],
   "source": [
    "# create a base classifier used to evaluate a subset of attributes\n",
    "estimatorLR = LogisticRegression()\n",
    "# create the RFE model and select 3 attributes\n",
    "selectorLR = RFE(estimatorLR, 3)\n",
    "selectorLR = selectorLR.fit(predictors_train, target_train)\n",
    "# summarize the selection of the attributes\n",
    "print(selectorLR.support_)\n",
    "print(selectorLR.ranking_)"
   ]
  },
  {
   "cell_type": "markdown",
   "metadata": {},
   "source": [
    "## B. Evaluate on the Test Data Set"
   ]
  },
  {
   "cell_type": "markdown",
   "metadata": {},
   "source": [
    "Apply the selectors to prepare training data sets only with the selected features\n",
    "\n",
    "__Note:__ The same selectors are applied to the test data set. However, it is important that the test data set was not used by (it's invisible to) the selectors. "
   ]
  },
  {
   "cell_type": "code",
   "execution_count": 9,
   "metadata": {},
   "outputs": [],
   "source": [
    "predictors_train_SVMselected = selectorSVM.transform(predictors_train)\n",
    "predictors_test_SVMselected = selectorSVM.transform(predictors_test)"
   ]
  },
  {
   "cell_type": "code",
   "execution_count": 10,
   "metadata": {},
   "outputs": [],
   "source": [
    "predictors_train_LRselected = selectorLR.transform(predictors_train)\n",
    "predictors_test_LRselected = selectorLR.transform(predictors_test)"
   ]
  },
  {
   "cell_type": "markdown",
   "metadata": {},
   "source": [
    "### Train and evaluate SVM classifiers with both the selected features and all features \n",
    "\n",
    "Here we train three models:\n",
    "* model1 - with the features selected by SVM\n",
    "* model2 - with the features selected by Logistic Regression\n",
    "* model3 - with all features (i.e. without feature selection)"
   ]
  },
  {
   "cell_type": "code",
   "execution_count": 11,
   "metadata": {},
   "outputs": [],
   "source": [
    "classifier = svm.SVC()"
   ]
  },
  {
   "cell_type": "code",
   "execution_count": 12,
   "metadata": {},
   "outputs": [
    {
     "data": {
      "text/plain": [
       "0.54375"
      ]
     },
     "execution_count": 12,
     "metadata": {},
     "output_type": "execute_result"
    }
   ],
   "source": [
    "model1 = classifier.fit(predictors_train_SVMselected, target_train)\n",
    "model1.score(predictors_test_SVMselected, target_test)"
   ]
  },
  {
   "cell_type": "code",
   "execution_count": 13,
   "metadata": {},
   "outputs": [
    {
     "data": {
      "text/plain": [
       "0.578125"
      ]
     },
     "execution_count": 13,
     "metadata": {},
     "output_type": "execute_result"
    }
   ],
   "source": [
    "model2 = classifier.fit(predictors_train_LRselected, target_train)\n",
    "model2.score(predictors_test_LRselected, target_test)"
   ]
  },
  {
   "cell_type": "code",
   "execution_count": 14,
   "metadata": {},
   "outputs": [
    {
     "data": {
      "text/plain": [
       "0.571875"
      ]
     },
     "execution_count": 14,
     "metadata": {},
     "output_type": "execute_result"
    }
   ],
   "source": [
    "model3 = classifier.fit(predictors_train, target_train)\n",
    "model3.score(predictors_test, target_test)"
   ]
  },
  {
   "cell_type": "markdown",
   "metadata": {},
   "source": [
    "## C. Conclusion\n",
    "\n",
    "The results above, give evidence that model1 is most accurate.\n",
    "\n",
    "However, when you execute this code again, it is very likely to get different results.\n",
    "\n",
    "To get more accurate results, accounting for the variance in the results, it is better to run the whole experiment multiple times and measure the variance in the results. Then pick the model that gives better results."
   ]
  },
  {
   "cell_type": "markdown",
   "metadata": {},
   "source": [
    "# Task 2\n",
    "  * Repeat the experiment in Etivity5-Feature Selection.ipynb with winequality_red.csv but this time run the whole experiment in a loop with different training/test stratified splits. \n",
    "  * Evaluate the three models for each iteration of the loop separately and boxplot the accuracies of the models for each iteration. \n",
    "  * Compare the results of this experiment to the results of Task 1 in a markdown cell (max 150 words).\n",
    "  \n",
    "#### Resources\n",
    "  * https://machinelearningmastery.com/an-introduction-to-feature-selection/\n",
    "  * https://machinelearningmastery.com/feature-selection-in-python-with-scikit-learn/\n",
    "  * https://stats.stackexchange.com/questions/264533/how-should-feature-selection-and-hyperparameter-optimization-be-ordered-in-the-m\n",
    "\n",
    "\n",
    "#### Rubric\n",
    "\n",
    "| Beginning [0-8]       | Developing [9-12]           | Accomplished [13-16]  |Exemplary [17-20] |\n",
    "| ------------- |:-------------:| -----:|-------------|\n",
    "| Loop implemented with run-time errors.      | Loop runs without errors. Feature selection performed outside the loop. | Loop implemented correctly with feature selection performed inside the loop. Results not box-plotted or summarised correctly. |Loop implemented correctly with feature selection performed inside the loop. Results box-plotted and summarised correctly.|\n"
   ]
  },
  {
   "cell_type": "markdown",
   "metadata": {},
   "source": [
    "#### Additional information regarding the stratified parameter used by train_test_split\n",
    "https://stackoverflow.com/questions/34842405/parameter-stratify-from-method-train-test-split-scikit-learn\n",
    "\n",
    "This `stratify` parameter makes a split so that the proportion of values in the sample produced will be the same as the proportion of values provided to parameter `stratify`.\n",
    "\n",
    "For example, if variable `y` is a binary categorical variable with values `0` and `1` and there are 25% of zeros and 75% of ones, `stratify=y` will make sure that your random split has 25% of `0's` and 75% of `1's`."
   ]
  },
  {
   "cell_type": "code",
   "execution_count": 15,
   "metadata": {},
   "outputs": [
    {
     "name": "stdout",
     "output_type": "stream",
     "text": [
      "Experiment iteration: 0\n",
      "Experiment iteration: 1\n",
      "Experiment iteration: 2\n",
      "Experiment iteration: 3\n",
      "Experiment iteration: 4\n",
      "Experiment iteration: 5\n",
      "Experiment iteration: 6\n",
      "Experiment iteration: 7\n",
      "Experiment iteration: 8\n",
      "Experiment iteration: 9\n",
      "Experiment iteration: 10\n",
      "Experiment iteration: 11\n",
      "Experiment iteration: 12\n",
      "Experiment iteration: 13\n",
      "Experiment iteration: 14\n",
      "Experiment iteration: 15\n",
      "Experiment iteration: 16\n",
      "Experiment iteration: 17\n",
      "Experiment iteration: 18\n",
      "Experiment iteration: 19\n",
      "Experiment iteration: 20\n",
      "Experiment iteration: 21\n",
      "Experiment iteration: 22\n",
      "Experiment iteration: 23\n",
      "Experiment iteration: 24\n",
      "Experiment iteration: 25\n",
      "Experiment iteration: 26\n",
      "Experiment iteration: 27\n",
      "Experiment iteration: 28\n",
      "Experiment iteration: 29\n",
      "Experiment iteration: 30\n",
      "Experiment iteration: 31\n",
      "Experiment iteration: 32\n",
      "Experiment iteration: 33\n",
      "Experiment iteration: 34\n",
      "Experiment iteration: 35\n",
      "Experiment iteration: 36\n",
      "Experiment iteration: 37\n",
      "Experiment iteration: 38\n",
      "Experiment iteration: 39\n",
      "Experiment iteration: 40\n",
      "Experiment iteration: 41\n",
      "Experiment iteration: 42\n",
      "Experiment iteration: 43\n",
      "Experiment iteration: 44\n",
      "Experiment iteration: 45\n",
      "Experiment iteration: 46\n",
      "Experiment iteration: 47\n",
      "Experiment iteration: 48\n",
      "Experiment iteration: 49\n",
      "Experiment iteration: 50\n",
      "Experiment iteration: 51\n",
      "Experiment iteration: 52\n",
      "Experiment iteration: 53\n",
      "Experiment iteration: 54\n",
      "Experiment iteration: 55\n",
      "Experiment iteration: 56\n",
      "Experiment iteration: 57\n",
      "Experiment iteration: 58\n",
      "Experiment iteration: 59\n",
      "Experiment iteration: 60\n",
      "Experiment iteration: 61\n",
      "Experiment iteration: 62\n",
      "Experiment iteration: 63\n",
      "Experiment iteration: 64\n",
      "Experiment iteration: 65\n",
      "Experiment iteration: 66\n",
      "Experiment iteration: 67\n",
      "Experiment iteration: 68\n",
      "Experiment iteration: 69\n",
      "Experiment iteration: 70\n",
      "Experiment iteration: 71\n",
      "Experiment iteration: 72\n",
      "Experiment iteration: 73\n",
      "Experiment iteration: 74\n",
      "Experiment iteration: 75\n",
      "Experiment iteration: 76\n",
      "Experiment iteration: 77\n",
      "Experiment iteration: 78\n",
      "Experiment iteration: 79\n",
      "Experiment iteration: 80\n",
      "Experiment iteration: 81\n",
      "Experiment iteration: 82\n",
      "Experiment iteration: 83\n",
      "Experiment iteration: 84\n",
      "Experiment iteration: 85\n",
      "Experiment iteration: 86\n",
      "Experiment iteration: 87\n",
      "Experiment iteration: 88\n",
      "Experiment iteration: 89\n",
      "Experiment iteration: 90\n",
      "Experiment iteration: 91\n",
      "Experiment iteration: 92\n",
      "Experiment iteration: 93\n",
      "Experiment iteration: 94\n",
      "Experiment iteration: 95\n",
      "Experiment iteration: 96\n",
      "Experiment iteration: 97\n",
      "Experiment iteration: 98\n",
      "Experiment iteration: 99\n",
      "rfe_svm_scores:  [0.56875, 0.509375, 0.5625, 0.578125, 0.571875, 0.553125, 0.5625, 0.615625, 0.553125, 0.578125, 0.571875, 0.590625, 0.5375, 0.5625, 0.559375, 0.55625, 0.528125, 0.56875, 0.546875, 0.521875, 0.5875, 0.603125, 0.553125, 0.603125, 0.534375, 0.553125, 0.6375, 0.553125, 0.575, 0.540625, 0.55625, 0.590625, 0.603125, 0.528125, 0.55, 0.553125, 0.521875, 0.603125, 0.590625, 0.559375, 0.540625, 0.575, 0.590625, 0.56875, 0.51875, 0.528125, 0.540625, 0.5625, 0.584375, 0.55625, 0.54375, 0.5625, 0.553125, 0.615625, 0.521875, 0.5875, 0.553125, 0.571875, 0.503125, 0.525, 0.553125, 0.51875, 0.559375, 0.55, 0.565625, 0.578125, 0.5625, 0.5375, 0.559375, 0.5375, 0.584375, 0.571875, 0.546875, 0.534375, 0.540625, 0.571875, 0.578125, 0.559375, 0.546875, 0.54375, 0.525, 0.571875, 0.525, 0.565625, 0.528125, 0.584375, 0.596875, 0.56875, 0.553125, 0.565625, 0.55625, 0.5875, 0.540625, 0.553125, 0.565625, 0.565625, 0.565625, 0.5625, 0.565625, 0.553125]\n",
      "\n",
      "\n",
      " rfe_lr_scores : [0.51875, 0.49375, 0.584375, 0.596875, 0.55625, 0.546875, 0.53125, 0.60625, 0.575, 0.584375, 0.571875, 0.553125, 0.54375, 0.575, 0.546875, 0.559375, 0.51875, 0.565625, 0.54375, 0.51875, 0.54375, 0.5625, 0.559375, 0.575, 0.51875, 0.575, 0.621875, 0.584375, 0.56875, 0.55625, 0.553125, 0.603125, 0.59375, 0.53125, 0.559375, 0.5375, 0.528125, 0.5875, 0.5875, 0.578125, 0.515625, 0.5375, 0.603125, 0.58125, 0.525, 0.584375, 0.521875, 0.5625, 0.540625, 0.575, 0.584375, 0.571875, 0.534375, 0.6375, 0.540625, 0.615625, 0.54375, 0.59375, 0.48125, 0.49375, 0.590625, 0.50625, 0.5625, 0.546875, 0.575, 0.553125, 0.575, 0.540625, 0.578125, 0.540625, 0.55, 0.565625, 0.55625, 0.53125, 0.54375, 0.55, 0.5625, 0.55, 0.521875, 0.553125, 0.5, 0.5625, 0.5375, 0.540625, 0.48125, 0.584375, 0.609375, 0.565625, 0.553125, 0.565625, 0.571875, 0.534375, 0.5625, 0.56875, 0.578125, 0.58125, 0.553125, 0.5625, 0.6, 0.534375]\n",
      "\n",
      "\n",
      " no_rfe_scores :  [0.54375, 0.50625, 0.55625, 0.59375, 0.55625, 0.5375, 0.54375, 0.6, 0.584375, 0.59375, 0.584375, 0.5625, 0.540625, 0.571875, 0.55, 0.5625, 0.525, 0.55625, 0.55625, 0.54375, 0.553125, 0.58125, 0.55625, 0.5875, 0.525, 0.578125, 0.6375, 0.578125, 0.571875, 0.54375, 0.559375, 0.59375, 0.596875, 0.51875, 0.55, 0.534375, 0.54375, 0.59375, 0.596875, 0.571875, 0.53125, 0.55625, 0.596875, 0.575, 0.525, 0.559375, 0.540625, 0.565625, 0.5625, 0.575, 0.571875, 0.58125, 0.5625, 0.628125, 0.5375, 0.603125, 0.559375, 0.571875, 0.49375, 0.509375, 0.55, 0.528125, 0.5625, 0.546875, 0.5625, 0.571875, 0.56875, 0.55, 0.56875, 0.5375, 0.575, 0.553125, 0.58125, 0.546875, 0.54375, 0.546875, 0.55625, 0.559375, 0.5625, 0.53125, 0.50625, 0.553125, 0.546875, 0.55, 0.49375, 0.59375, 0.609375, 0.559375, 0.55, 0.553125, 0.56875, 0.55, 0.546875, 0.571875, 0.5875, 0.56875, 0.553125, 0.584375, 0.59375, 0.528125]\n"
     ]
    }
   ],
   "source": [
    "def experiment(estimator, repeats, predictors_train, predictors_test, target_train, target_test, use_rfe=True):\n",
    "\n",
    "    if (use_rfe):        \n",
    "        selector = RFE(estimator, 3)\n",
    "        selector = selector.fit(predictors_train, target_train)\n",
    "        \n",
    "        predictors_train_selected = selector.transform(predictors_train)\n",
    "        predictors_test_selected = selector.transform(predictors_test)\n",
    "    else:\n",
    "        predictors_train_selected = predictors_train\n",
    "        predictors_test_selected = predictors_test\n",
    "\n",
    "    # score classifier\n",
    "    classifier = svm.SVC()\n",
    "    model = classifier.fit(predictors_train_selected, target_train)\n",
    "    model_score = model.score(predictors_test_selected, target_test)\n",
    "        \n",
    "    return model_score;\n",
    "    \n",
    "\n",
    "def whole_experiment(repeats):\n",
    "    rfe_svm_scores = []\n",
    "    rfe_lr_scores = []\n",
    "    no_rfe_scores = []\n",
    "\n",
    "    for i in range (0, repeats):\n",
    "        print(\"Experiment iteration:\", i)\n",
    "        \n",
    "        # stratified train_test_split\n",
    "        predictors_train, predictors_test, target_train, target_test = train_test_split(\n",
    "        predictors, target, test_size=0.20, shuffle=True, stratify=target)\n",
    "        \n",
    "        # normalise\n",
    "        predictors_train = min_max_scaler.fit_transform(predictors_train)\n",
    "        predictors_test = min_max_scaler.fit_transform(predictors_test)\n",
    "        \n",
    "        # SVM\n",
    "        estimatorSVM = svm.SVR(kernel=\"linear\")\n",
    "        rfe_svm_scores.append(experiment(estimatorSVM, repeats, predictors_train, predictors_test, target_train, target_test))\n",
    "        \n",
    "        # LR\n",
    "        estimatorLR = LogisticRegression()\n",
    "        rfe_lr_scores.append(experiment(estimatorLR, repeats, predictors_train, predictors_test, target_train, target_test))\n",
    "        \n",
    "        # Normal\n",
    "        no_rfe_scores.append(experiment(None, repeats, predictors_train, predictors_test, target_train, target_test, use_rfe=False))\n",
    "        \n",
    "    return rfe_svm_scores, rfe_lr_scores, no_rfe_scores\n",
    "\n",
    "# Run the whole experiment\n",
    "rfe_svm_scores, rfe_lr_scores, no_rfe_scores = whole_experiment(100)\n",
    "print(\"rfe_svm_scores: \", rfe_svm_scores)\n",
    "print(\"\\n\\n rfe_lr_scores :\", rfe_lr_scores)\n",
    "print(\"\\n\\n no_rfe_scores : \", no_rfe_scores)\n"
   ]
  },
  {
   "cell_type": "code",
   "execution_count": 16,
   "metadata": {},
   "outputs": [
    {
     "data": {
      "text/html": [
       "<div>\n",
       "<style scoped>\n",
       "    .dataframe tbody tr th:only-of-type {\n",
       "        vertical-align: middle;\n",
       "    }\n",
       "\n",
       "    .dataframe tbody tr th {\n",
       "        vertical-align: top;\n",
       "    }\n",
       "\n",
       "    .dataframe thead th {\n",
       "        text-align: right;\n",
       "    }\n",
       "</style>\n",
       "<table border=\"1\" class=\"dataframe\">\n",
       "  <thead>\n",
       "    <tr style=\"text-align: right;\">\n",
       "      <th></th>\n",
       "      <th>RFE SVM</th>\n",
       "      <th>RFE LR</th>\n",
       "      <th>No RFE</th>\n",
       "    </tr>\n",
       "  </thead>\n",
       "  <tbody>\n",
       "    <tr>\n",
       "      <th>count</th>\n",
       "      <td>100.000000</td>\n",
       "      <td>100.000000</td>\n",
       "      <td>100.000000</td>\n",
       "    </tr>\n",
       "    <tr>\n",
       "      <th>mean</th>\n",
       "      <td>0.559969</td>\n",
       "      <td>0.557594</td>\n",
       "      <td>0.560187</td>\n",
       "    </tr>\n",
       "    <tr>\n",
       "      <th>std</th>\n",
       "      <td>0.024589</td>\n",
       "      <td>0.029816</td>\n",
       "      <td>0.026091</td>\n",
       "    </tr>\n",
       "    <tr>\n",
       "      <th>min</th>\n",
       "      <td>0.503125</td>\n",
       "      <td>0.481250</td>\n",
       "      <td>0.493750</td>\n",
       "    </tr>\n",
       "    <tr>\n",
       "      <th>25%</th>\n",
       "      <td>0.543750</td>\n",
       "      <td>0.540625</td>\n",
       "      <td>0.546094</td>\n",
       "    </tr>\n",
       "    <tr>\n",
       "      <th>50%</th>\n",
       "      <td>0.559375</td>\n",
       "      <td>0.559375</td>\n",
       "      <td>0.559375</td>\n",
       "    </tr>\n",
       "    <tr>\n",
       "      <th>75%</th>\n",
       "      <td>0.571875</td>\n",
       "      <td>0.575781</td>\n",
       "      <td>0.575000</td>\n",
       "    </tr>\n",
       "    <tr>\n",
       "      <th>max</th>\n",
       "      <td>0.637500</td>\n",
       "      <td>0.637500</td>\n",
       "      <td>0.637500</td>\n",
       "    </tr>\n",
       "  </tbody>\n",
       "</table>\n",
       "</div>"
      ],
      "text/plain": [
       "          RFE SVM      RFE LR      No RFE\n",
       "count  100.000000  100.000000  100.000000\n",
       "mean     0.559969    0.557594    0.560187\n",
       "std      0.024589    0.029816    0.026091\n",
       "min      0.503125    0.481250    0.493750\n",
       "25%      0.543750    0.540625    0.546094\n",
       "50%      0.559375    0.559375    0.559375\n",
       "75%      0.571875    0.575781    0.575000\n",
       "max      0.637500    0.637500    0.637500"
      ]
     },
     "execution_count": 16,
     "metadata": {},
     "output_type": "execute_result"
    }
   ],
   "source": [
    "dataset = pd.DataFrame({'RFE SVM':rfe_svm_scores, 'RFE LR': rfe_lr_scores, 'No RFE':no_rfe_scores })\n",
    "dataset.describe()"
   ]
  },
  {
   "cell_type": "code",
   "execution_count": 17,
   "metadata": {},
   "outputs": [
    {
     "data": {
      "text/plain": [
       "Text(0.5,0.98,'')"
      ]
     },
     "execution_count": 17,
     "metadata": {},
     "output_type": "execute_result"
    },
    {
     "data": {
      "image/png": "[encoded data removed]",
      "text/plain": [
       "<Figure size 432x288 with 1 Axes>"
      ]
     },
     "metadata": {
      "needs_background": "light"
     },
     "output_type": "display_data"
    }
   ],
   "source": [
    "dataset.boxplot()\n",
    "plt.title(\"Score by estimator\")\n",
    "plt.xlabel('Estimator')\n",
    "plt.ylabel('score')\n",
    "\n",
    "plt.suptitle(\"\")"
   ]
  },
  {
   "cell_type": "markdown",
   "metadata": {},
   "source": [
    "#### Observations\n",
    "We can see that the mean score and associated variance is nearly the same for the 3 models.\n",
    "\n",
    "The **best mean score comes from RFE on Logitic Regression**, followed closely by the model with no RFE and the model using RFE on SVM.\n",
    "\n",
    "This shows that we don't need all the features in order to get the same accuracy as if we had the whole data set."
   ]
  },
  {
   "cell_type": "markdown",
   "metadata": {},
   "source": [
    "# Task 3\n",
    "  * Build two pipelines for training classifiers for the dataset winequality_red.csv and summarise the results from training classifiers with the pipelines in a markdown cell (max 150 words).\n",
    "  * The two pipelines should include feature-selection methods, and the feature-selection method in pipeline 1 should be different from the feature-selection method in pipeline 2.\n",
    "\n",
    "#### Resources:\n",
    "  * https://machinelearningmastery.com/automate-machine-learning-workflows-pipelines-python-scikit-learn/\n",
    "  * https://towardsdatascience.com/a-simple-example-of-pipeline-in-machine-learning-with-scikit-learn-e726ffbb6976\n",
    "  * https://ramhiser.com/post/2018-03-25-feature-selection-with-scikit-learn-pipeline/\n",
    "  \n",
    "#### Rubric\n",
    "\n",
    "| Beginning [0-8]       | Developing [9-12]           | Accomplished [13-16]  |Exemplary [17-20] |\n",
    "| ------------- |:-------------:| -----:|-------------|\n",
    "| Pipelines attempted but with run-time errors.    | One pipeline implemented without errors. Results not summarised. | Two pipelines implemented without errors but both using the same feature-selection method. Results summarised. | Two pipelines implemented without errors. The feature-selection method in pipeline 1 different from the feature-selection method in pipeline 2. Results summarised. |\n"
   ]
  },
  {
   "cell_type": "markdown",
   "metadata": {},
   "source": [
    "### Pipeline 1"
   ]
  },
  {
   "cell_type": "code",
   "execution_count": 18,
   "metadata": {},
   "outputs": [
    {
     "name": "stdout",
     "output_type": "stream",
     "text": [
      "0.5084394654088051\n"
     ]
    }
   ],
   "source": [
    "# create feature union\n",
    "features = []\n",
    "features.append(('rfe', RFE(LogisticRegression(), 3)))\n",
    "feature_union = FeatureUnion(features)\n",
    "\n",
    "# create pipeline\n",
    "estimators = []\n",
    "estimators.append(('feature_union', feature_union))\n",
    "estimators.append(('logistic', LogisticRegression()))\n",
    "model = Pipeline(estimators)\n",
    "\n",
    "# evaluate pipeline\n",
    "seed = 7\n",
    "kfold = KFold(n_splits=10, random_state=seed)\n",
    "results = cross_val_score(model, predictors, target, cv=kfold)\n",
    "print(results.mean())"
   ]
  },
  {
   "cell_type": "markdown",
   "metadata": {},
   "source": [
    "### Pipeline 2"
   ]
  },
  {
   "cell_type": "code",
   "execution_count": 19,
   "metadata": {},
   "outputs": [
    {
     "name": "stdout",
     "output_type": "stream",
     "text": [
      "0.5728577044025157\n"
     ]
    }
   ],
   "source": [
    "# create feature union\n",
    "features = []\n",
    "features.append(('pca', PCA(n_components=3)))\n",
    "features.append(('select_best', SelectKBest(k=6)))\n",
    "feature_union = FeatureUnion(features)\n",
    "\n",
    "# create pipeline\n",
    "estimators = []\n",
    "estimators.append(('feature_union', feature_union))\n",
    "estimators.append(('logistic', LogisticRegression()))\n",
    "model = Pipeline(estimators)\n",
    "\n",
    "# evaluate pipeline\n",
    "seed = 7\n",
    "kfold = KFold(n_splits=10, random_state=seed)\n",
    "results = cross_val_score(model, predictors, target, cv=kfold)\n",
    "print(results.mean())"
   ]
  },
  {
   "cell_type": "markdown",
   "metadata": {},
   "source": [
    "### Observations\n",
    "\n",
    "We can see that the pipeline using PCA is produces a model mean accuracy superior to the the pipeline using RFE. (57% pca vs 50% for RFE)\n",
    "\n",
    "Both PCA and RFE are using 3 features only. This shows that the features computed by PCA are more representative of the data set than the features selected by RFE.\n"
   ]
  }
 ],
 "metadata": {
  "kernelspec": {
   "display_name": "Python 3",
   "language": "python",
   "name": "python3"
  },
  "language_info": {
   "codemirror_mode": {
    "name": "ipython",
    "version": 3
   },
   "file_extension": ".py",
   "mimetype": "text/x-python",
   "name": "python",
   "nbconvert_exporter": "python",
   "pygments_lexer": "ipython3",
   "version": "3.7.0"
  }
 },
 "nbformat": 4,
 "nbformat_minor": 2
}
