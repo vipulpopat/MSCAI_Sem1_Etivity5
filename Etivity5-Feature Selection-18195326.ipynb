{
 "cells": [
  {
   "cell_type": "markdown",
   "metadata": {},
   "source": [
    "# MSc in AI - CE6002 & CS5062\n",
    "\n",
    "\n",
    "# E-tivity 5: Higher Dimensions\n",
    "\n",
    "# CS5062 -Feature Selection - Tasks 1, 2 and 3\n",
    "\n",
    "## Student Name: Mark Murnane\n",
    "## Student ID: 18195326\n",
    "-----"
   ]
  },
  {
   "cell_type": "markdown",
   "metadata": {},
   "source": [
    "### Import Python modules"
   ]
  },
  {
   "cell_type": "code",
   "execution_count": 1,
   "metadata": {},
   "outputs": [],
   "source": [
    "%matplotlib inline\n",
    "\n",
    "import pandas as pd\n",
    "import numpy as np\n",
    "\n",
    "import matplotlib.pyplot as plt\n",
    "\n",
    "from sklearn import preprocessing #needed for scaling attributes to the nterval [0,1]\n",
    "\n",
    "from sklearn import svm\n",
    "from sklearn.linear_model import LogisticRegression\n",
    "from sklearn.ensemble import RandomForestClassifier\n",
    "from sklearn.feature_selection import RFE\n",
    "\n",
    "from sklearn.model_selection import train_test_split\n",
    "from sklearn.model_selection import StratifiedKFold\n",
    "\n",
    "from sklearn.pipeline import Pipeline\n",
    "from sklearn.pipeline import FeatureUnion\n",
    "from sklearn.model_selection import cross_val_score\n",
    "from sklearn.decomposition import PCA"
   ]
  },
  {
   "cell_type": "markdown",
   "metadata": {},
   "source": [
    "The following will suppress warnings from sci-kit learn on changes to default values in future releases."
   ]
  },
  {
   "cell_type": "code",
   "execution_count": 2,
   "metadata": {},
   "outputs": [],
   "source": [
    "# Don't want FutureWarnings from scikit-learn\n",
    "import warnings\n",
    "warnings.filterwarnings(action='ignore', category=FutureWarning)"
   ]
  },
  {
   "cell_type": "markdown",
   "metadata": {},
   "source": [
    "### Load and prepare the dataset for training and evaluation\n",
    "Feel free to apply any other pre-processing technique at this point."
   ]
  },
  {
   "cell_type": "code",
   "execution_count": 3,
   "metadata": {},
   "outputs": [
    {
     "data": {
      "text/html": [
       "<div>\n",
       "<style scoped>\n",
       "    .dataframe tbody tr th:only-of-type {\n",
       "        vertical-align: middle;\n",
       "    }\n",
       "\n",
       "    .dataframe tbody tr th {\n",
       "        vertical-align: top;\n",
       "    }\n",
       "\n",
       "    .dataframe thead th {\n",
       "        text-align: right;\n",
       "    }\n",
       "</style>\n",
       "<table border=\"1\" class=\"dataframe\">\n",
       "  <thead>\n",
       "    <tr style=\"text-align: right;\">\n",
       "      <th></th>\n",
       "      <th>fixed acidity</th>\n",
       "      <th>volatile acidity</th>\n",
       "      <th>citric acid</th>\n",
       "      <th>residual sugar</th>\n",
       "      <th>chlorides</th>\n",
       "      <th>free sulfur dioxide</th>\n",
       "      <th>total sulfur dioxide</th>\n",
       "      <th>density</th>\n",
       "      <th>pH</th>\n",
       "      <th>sulphates</th>\n",
       "      <th>alcohol</th>\n",
       "      <th>quality</th>\n",
       "    </tr>\n",
       "  </thead>\n",
       "  <tbody>\n",
       "    <tr>\n",
       "      <th>count</th>\n",
       "      <td>1599.000000</td>\n",
       "      <td>1599.000000</td>\n",
       "      <td>1599.000000</td>\n",
       "      <td>1599.000000</td>\n",
       "      <td>1599.000000</td>\n",
       "      <td>1599.000000</td>\n",
       "      <td>1599.000000</td>\n",
       "      <td>1599.000000</td>\n",
       "      <td>1599.000000</td>\n",
       "      <td>1599.000000</td>\n",
       "      <td>1599.000000</td>\n",
       "      <td>1599.000000</td>\n",
       "    </tr>\n",
       "    <tr>\n",
       "      <th>mean</th>\n",
       "      <td>8.319637</td>\n",
       "      <td>0.527821</td>\n",
       "      <td>0.270976</td>\n",
       "      <td>2.538806</td>\n",
       "      <td>0.087467</td>\n",
       "      <td>15.874922</td>\n",
       "      <td>46.467792</td>\n",
       "      <td>0.996747</td>\n",
       "      <td>3.311113</td>\n",
       "      <td>0.658149</td>\n",
       "      <td>10.422983</td>\n",
       "      <td>5.636023</td>\n",
       "    </tr>\n",
       "    <tr>\n",
       "      <th>std</th>\n",
       "      <td>1.741096</td>\n",
       "      <td>0.179060</td>\n",
       "      <td>0.194801</td>\n",
       "      <td>1.409928</td>\n",
       "      <td>0.047065</td>\n",
       "      <td>10.460157</td>\n",
       "      <td>32.895324</td>\n",
       "      <td>0.001887</td>\n",
       "      <td>0.154386</td>\n",
       "      <td>0.169507</td>\n",
       "      <td>1.065668</td>\n",
       "      <td>0.807569</td>\n",
       "    </tr>\n",
       "    <tr>\n",
       "      <th>min</th>\n",
       "      <td>4.600000</td>\n",
       "      <td>0.120000</td>\n",
       "      <td>0.000000</td>\n",
       "      <td>0.900000</td>\n",
       "      <td>0.012000</td>\n",
       "      <td>1.000000</td>\n",
       "      <td>6.000000</td>\n",
       "      <td>0.990070</td>\n",
       "      <td>2.740000</td>\n",
       "      <td>0.330000</td>\n",
       "      <td>8.400000</td>\n",
       "      <td>3.000000</td>\n",
       "    </tr>\n",
       "    <tr>\n",
       "      <th>25%</th>\n",
       "      <td>7.100000</td>\n",
       "      <td>0.390000</td>\n",
       "      <td>0.090000</td>\n",
       "      <td>1.900000</td>\n",
       "      <td>0.070000</td>\n",
       "      <td>7.000000</td>\n",
       "      <td>22.000000</td>\n",
       "      <td>0.995600</td>\n",
       "      <td>3.210000</td>\n",
       "      <td>0.550000</td>\n",
       "      <td>9.500000</td>\n",
       "      <td>5.000000</td>\n",
       "    </tr>\n",
       "    <tr>\n",
       "      <th>50%</th>\n",
       "      <td>7.900000</td>\n",
       "      <td>0.520000</td>\n",
       "      <td>0.260000</td>\n",
       "      <td>2.200000</td>\n",
       "      <td>0.079000</td>\n",
       "      <td>14.000000</td>\n",
       "      <td>38.000000</td>\n",
       "      <td>0.996750</td>\n",
       "      <td>3.310000</td>\n",
       "      <td>0.620000</td>\n",
       "      <td>10.200000</td>\n",
       "      <td>6.000000</td>\n",
       "    </tr>\n",
       "    <tr>\n",
       "      <th>75%</th>\n",
       "      <td>9.200000</td>\n",
       "      <td>0.640000</td>\n",
       "      <td>0.420000</td>\n",
       "      <td>2.600000</td>\n",
       "      <td>0.090000</td>\n",
       "      <td>21.000000</td>\n",
       "      <td>62.000000</td>\n",
       "      <td>0.997835</td>\n",
       "      <td>3.400000</td>\n",
       "      <td>0.730000</td>\n",
       "      <td>11.100000</td>\n",
       "      <td>6.000000</td>\n",
       "    </tr>\n",
       "    <tr>\n",
       "      <th>max</th>\n",
       "      <td>15.900000</td>\n",
       "      <td>1.580000</td>\n",
       "      <td>1.000000</td>\n",
       "      <td>15.500000</td>\n",
       "      <td>0.611000</td>\n",
       "      <td>72.000000</td>\n",
       "      <td>289.000000</td>\n",
       "      <td>1.003690</td>\n",
       "      <td>4.010000</td>\n",
       "      <td>2.000000</td>\n",
       "      <td>14.900000</td>\n",
       "      <td>8.000000</td>\n",
       "    </tr>\n",
       "  </tbody>\n",
       "</table>\n",
       "</div>"
      ],
      "text/plain": [
       "       fixed acidity  volatile acidity  citric acid  residual sugar  \\\n",
       "count    1599.000000       1599.000000  1599.000000     1599.000000   \n",
       "mean        8.319637          0.527821     0.270976        2.538806   \n",
       "std         1.741096          0.179060     0.194801        1.409928   \n",
       "min         4.600000          0.120000     0.000000        0.900000   \n",
       "25%         7.100000          0.390000     0.090000        1.900000   \n",
       "50%         7.900000          0.520000     0.260000        2.200000   \n",
       "75%         9.200000          0.640000     0.420000        2.600000   \n",
       "max        15.900000          1.580000     1.000000       15.500000   \n",
       "\n",
       "         chlorides  free sulfur dioxide  total sulfur dioxide      density  \\\n",
       "count  1599.000000          1599.000000           1599.000000  1599.000000   \n",
       "mean      0.087467            15.874922             46.467792     0.996747   \n",
       "std       0.047065            10.460157             32.895324     0.001887   \n",
       "min       0.012000             1.000000              6.000000     0.990070   \n",
       "25%       0.070000             7.000000             22.000000     0.995600   \n",
       "50%       0.079000            14.000000             38.000000     0.996750   \n",
       "75%       0.090000            21.000000             62.000000     0.997835   \n",
       "max       0.611000            72.000000            289.000000     1.003690   \n",
       "\n",
       "                pH    sulphates      alcohol      quality  \n",
       "count  1599.000000  1599.000000  1599.000000  1599.000000  \n",
       "mean      3.311113     0.658149    10.422983     5.636023  \n",
       "std       0.154386     0.169507     1.065668     0.807569  \n",
       "min       2.740000     0.330000     8.400000     3.000000  \n",
       "25%       3.210000     0.550000     9.500000     5.000000  \n",
       "50%       3.310000     0.620000    10.200000     6.000000  \n",
       "75%       3.400000     0.730000    11.100000     6.000000  \n",
       "max       4.010000     2.000000    14.900000     8.000000  "
      ]
     },
     "execution_count": 3,
     "metadata": {},
     "output_type": "execute_result"
    }
   ],
   "source": [
    "wine_df = pd.read_csv(\"./winequality_red.csv\")\n",
    "wine_df.describe()"
   ]
  },
  {
   "cell_type": "code",
   "execution_count": 4,
   "metadata": {},
   "outputs": [
    {
     "data": {
      "text/html": [
       "<div>\n",
       "<style scoped>\n",
       "    .dataframe tbody tr th:only-of-type {\n",
       "        vertical-align: middle;\n",
       "    }\n",
       "\n",
       "    .dataframe tbody tr th {\n",
       "        vertical-align: top;\n",
       "    }\n",
       "\n",
       "    .dataframe thead th {\n",
       "        text-align: right;\n",
       "    }\n",
       "</style>\n",
       "<table border=\"1\" class=\"dataframe\">\n",
       "  <thead>\n",
       "    <tr style=\"text-align: right;\">\n",
       "      <th></th>\n",
       "      <th>fixed acidity</th>\n",
       "      <th>volatile acidity</th>\n",
       "      <th>citric acid</th>\n",
       "      <th>residual sugar</th>\n",
       "      <th>chlorides</th>\n",
       "      <th>free sulfur dioxide</th>\n",
       "      <th>total sulfur dioxide</th>\n",
       "      <th>density</th>\n",
       "      <th>pH</th>\n",
       "      <th>sulphates</th>\n",
       "      <th>alcohol</th>\n",
       "      <th>quality</th>\n",
       "    </tr>\n",
       "  </thead>\n",
       "  <tbody>\n",
       "    <tr>\n",
       "      <th>0</th>\n",
       "      <td>7.4</td>\n",
       "      <td>0.70</td>\n",
       "      <td>0.00</td>\n",
       "      <td>1.9</td>\n",
       "      <td>0.076</td>\n",
       "      <td>11.0</td>\n",
       "      <td>34.0</td>\n",
       "      <td>0.9978</td>\n",
       "      <td>3.51</td>\n",
       "      <td>0.56</td>\n",
       "      <td>9.4</td>\n",
       "      <td>5</td>\n",
       "    </tr>\n",
       "    <tr>\n",
       "      <th>1</th>\n",
       "      <td>7.8</td>\n",
       "      <td>0.88</td>\n",
       "      <td>0.00</td>\n",
       "      <td>2.6</td>\n",
       "      <td>0.098</td>\n",
       "      <td>25.0</td>\n",
       "      <td>67.0</td>\n",
       "      <td>0.9968</td>\n",
       "      <td>3.20</td>\n",
       "      <td>0.68</td>\n",
       "      <td>9.8</td>\n",
       "      <td>5</td>\n",
       "    </tr>\n",
       "    <tr>\n",
       "      <th>2</th>\n",
       "      <td>7.8</td>\n",
       "      <td>0.76</td>\n",
       "      <td>0.04</td>\n",
       "      <td>2.3</td>\n",
       "      <td>0.092</td>\n",
       "      <td>15.0</td>\n",
       "      <td>54.0</td>\n",
       "      <td>0.9970</td>\n",
       "      <td>3.26</td>\n",
       "      <td>0.65</td>\n",
       "      <td>9.8</td>\n",
       "      <td>5</td>\n",
       "    </tr>\n",
       "    <tr>\n",
       "      <th>3</th>\n",
       "      <td>11.2</td>\n",
       "      <td>0.28</td>\n",
       "      <td>0.56</td>\n",
       "      <td>1.9</td>\n",
       "      <td>0.075</td>\n",
       "      <td>17.0</td>\n",
       "      <td>60.0</td>\n",
       "      <td>0.9980</td>\n",
       "      <td>3.16</td>\n",
       "      <td>0.58</td>\n",
       "      <td>9.8</td>\n",
       "      <td>6</td>\n",
       "    </tr>\n",
       "    <tr>\n",
       "      <th>4</th>\n",
       "      <td>7.4</td>\n",
       "      <td>0.70</td>\n",
       "      <td>0.00</td>\n",
       "      <td>1.9</td>\n",
       "      <td>0.076</td>\n",
       "      <td>11.0</td>\n",
       "      <td>34.0</td>\n",
       "      <td>0.9978</td>\n",
       "      <td>3.51</td>\n",
       "      <td>0.56</td>\n",
       "      <td>9.4</td>\n",
       "      <td>5</td>\n",
       "    </tr>\n",
       "  </tbody>\n",
       "</table>\n",
       "</div>"
      ],
      "text/plain": [
       "   fixed acidity  volatile acidity  citric acid  residual sugar  chlorides  \\\n",
       "0            7.4              0.70         0.00             1.9      0.076   \n",
       "1            7.8              0.88         0.00             2.6      0.098   \n",
       "2            7.8              0.76         0.04             2.3      0.092   \n",
       "3           11.2              0.28         0.56             1.9      0.075   \n",
       "4            7.4              0.70         0.00             1.9      0.076   \n",
       "\n",
       "   free sulfur dioxide  total sulfur dioxide  density    pH  sulphates  \\\n",
       "0                 11.0                  34.0   0.9978  3.51       0.56   \n",
       "1                 25.0                  67.0   0.9968  3.20       0.68   \n",
       "2                 15.0                  54.0   0.9970  3.26       0.65   \n",
       "3                 17.0                  60.0   0.9980  3.16       0.58   \n",
       "4                 11.0                  34.0   0.9978  3.51       0.56   \n",
       "\n",
       "   alcohol  quality  \n",
       "0      9.4        5  \n",
       "1      9.8        5  \n",
       "2      9.8        5  \n",
       "3      9.8        6  \n",
       "4      9.4        5  "
      ]
     },
     "execution_count": 4,
     "metadata": {},
     "output_type": "execute_result"
    }
   ],
   "source": [
    "# Get a quick view of the data\n",
    "wine_df.head()"
   ]
  },
  {
   "cell_type": "markdown",
   "metadata": {},
   "source": [
    "We can now separate the dataset into _training_ and _test_ sets.\n",
    "\n",
    "Note that a change from Nik's notebook is the removal from this point of the scaling of the predictor set.  This is moved to apply only to the _training_ set created from `train_test_split`."
   ]
  },
  {
   "cell_type": "code",
   "execution_count": 5,
   "metadata": {},
   "outputs": [],
   "source": [
    "# target attribute\n",
    "target_attribute_name = 'quality'\n",
    "target = wine_df[target_attribute_name].values\n",
    "\n",
    "# predictor attributes\n",
    "predictors = wine_df.drop(target_attribute_name, axis=1).values"
   ]
  },
  {
   "cell_type": "markdown",
   "metadata": {},
   "source": [
    "### Target Variable Distribution\n",
    "\n",
    "The initial testing in Task 1 below demonstrates that the models generated have difficulty correctly predicting the target class (with scores of < 60%)."
   ]
  },
  {
   "cell_type": "code",
   "execution_count": 6,
   "metadata": {},
   "outputs": [
    {
     "data": {
      "text/plain": [
       "<matplotlib.axes._subplots.AxesSubplot at 0x22e5993b6a0>"
      ]
     },
     "execution_count": 6,
     "metadata": {},
     "output_type": "execute_result"
    },
    {
     "data": {
      "image/png": "[encoded data removed]",
      "text/plain": [
       "<Figure size 648x432 with 1 Axes>"
      ]
     },
     "metadata": {
      "needs_background": "light"
     },
     "output_type": "display_data"
    }
   ],
   "source": [
    "wine_df[target_attribute_name].hist(figsize=(9,6))"
   ]
  },
  {
   "cell_type": "markdown",
   "metadata": {},
   "source": [
    "As the vast majority of the target values (> 75%) are grouped around the values 5 and 6, it is difficult for the model to discriminate between some of the target values.  \n",
    "\n",
    "One option to improve this would be to reclassify the quality as either \"Poor\", \"Normal\", \"Improved\". The accuracy of the model is aided by creating larger target \"groups\" on which to train with such a small training set.  Nik has pointed out that accuracy is not the goal, however.\n",
    "\n",
    "The more relevant part of the dataset to this exercise is the _predictor_ values.  As can be seen from _describe_ output above and the boxplot below, there are not only different scales in the data set but also large numbers of outliers for several features."
   ]
  },
  {
   "cell_type": "code",
   "execution_count": 7,
   "metadata": {},
   "outputs": [
    {
     "data": {
      "text/plain": [
       "<matplotlib.axes._subplots.AxesSubplot at 0x22e59d868d0>"
      ]
     },
     "execution_count": 7,
     "metadata": {},
     "output_type": "execute_result"
    },
    {
     "data": {
      "image/png": "[encoded data removed]",
      "text/plain": [
       "<Figure size 648x432 with 1 Axes>"
      ]
     },
     "metadata": {
      "needs_background": "light"
     },
     "output_type": "display_data"
    }
   ],
   "source": [
    "wine_df.boxplot(figsize=(9,6), rot=-45)"
   ]
  },
  {
   "cell_type": "markdown",
   "metadata": {},
   "source": [
    "# Task 1"
   ]
  },
  {
   "cell_type": "markdown",
   "metadata": {},
   "source": [
    "Split the data set into a training (80%) and test (20%) data sets.  \n",
    "\n",
    "We also train a `MinMaxScaler` on the _training_ set and apply it to both the _training_ and _test_ sets."
   ]
  },
  {
   "cell_type": "code",
   "execution_count": 8,
   "metadata": {},
   "outputs": [],
   "source": [
    "# pepare independent stratified data sets for training and test of the final model\n",
    "predictors_train, predictors_test, target_train, target_test = train_test_split(\n",
    "    predictors, target, test_size=0.20, shuffle=True, stratify=target, random_state=42)\n",
    "\n",
    "# scale all predictor values to the range [0, 1]\n",
    "# note the target attribute is already binary\n",
    "min_max_scaler = preprocessing.MinMaxScaler()\n",
    "predictors_train = min_max_scaler.fit_transform(predictors_train)\n",
    "predictors_test = min_max_scaler.transform(predictors_test)"
   ]
  },
  {
   "cell_type": "markdown",
   "metadata": {},
   "source": [
    "## A. Feature Selection"
   ]
  },
  {
   "cell_type": "markdown",
   "metadata": {},
   "source": [
    "#### 1. Apply RFE with SVM for selecting the best features"
   ]
  },
  {
   "cell_type": "code",
   "execution_count": 9,
   "metadata": {},
   "outputs": [
    {
     "name": "stdout",
     "output_type": "stream",
     "text": [
      "[False  True False False False False False False False  True  True]\n",
      "[4 1 9 5 3 8 2 6 7 1 1]\n"
     ]
    }
   ],
   "source": [
    "# create a base classifier used to evaluate a subset of attributes\n",
    "estimatorSVM = svm.SVR(kernel=\"linear\")\n",
    "selectorSVM = RFE(estimatorSVM, 3)\n",
    "selectorSVM = selectorSVM.fit(predictors_train, target_train)\n",
    "# summarize the selection of the attributes\n",
    "print(selectorSVM.support_)\n",
    "print(selectorSVM.ranking_)"
   ]
  },
  {
   "cell_type": "markdown",
   "metadata": {},
   "source": [
    "The output above shows that RFE with SVM has selected the features _volatile acidity_, _sulphates_ and _alcohol_ as the 3 best features for predicting the target classes."
   ]
  },
  {
   "cell_type": "markdown",
   "metadata": {},
   "source": [
    "#### 2. Apply RFE with Logistic Regression for selecting the best features"
   ]
  },
  {
   "cell_type": "code",
   "execution_count": 10,
   "metadata": {},
   "outputs": [
    {
     "name": "stdout",
     "output_type": "stream",
     "text": [
      "[False  True False False False False  True False False False  True]\n",
      "[6 1 4 9 7 5 1 3 8 2 1]\n"
     ]
    }
   ],
   "source": [
    "# create a base classifier used to evaluate a subset of attributes\n",
    "estimatorLR = LogisticRegression()\n",
    "# create the RFE model and select 3 attributes\n",
    "selectorLR = RFE(estimatorLR, 3)\n",
    "selectorLR = selectorLR.fit(predictors_train, target_train)\n",
    "# summarize the selection of the attributes\n",
    "print(selectorLR.support_)\n",
    "print(selectorLR.ranking_)"
   ]
  },
  {
   "cell_type": "markdown",
   "metadata": {},
   "source": [
    "The output above shows that RFE with Logistic Regression has selected the features _volatile acidity_, _total suplhur dioxide_ and _alcohol_ as the 3 best features for predicting the target classes.\n",
    "\n",
    "The change from SVM is the swap of _sulphates_ for _total sulfur dioxide_"
   ]
  },
  {
   "cell_type": "markdown",
   "metadata": {},
   "source": [
    "## B. Evaluate on the Test Data Set"
   ]
  },
  {
   "cell_type": "markdown",
   "metadata": {},
   "source": [
    "Apply the selectors to prepare training data sets only with the selected features\n",
    "\n",
    "__Note:__ The same selectors are applied to the test data set. However, it is important that the test data set was not used by (it's invisible to) the selectors. "
   ]
  },
  {
   "cell_type": "code",
   "execution_count": 11,
   "metadata": {},
   "outputs": [],
   "source": [
    "predictors_train_SVMselected = selectorSVM.transform(predictors_train)\n",
    "predictors_test_SVMselected = selectorSVM.transform(predictors_test)"
   ]
  },
  {
   "cell_type": "code",
   "execution_count": 12,
   "metadata": {},
   "outputs": [],
   "source": [
    "predictors_train_LRselected = selectorLR.transform(predictors_train)\n",
    "predictors_test_LRselected = selectorLR.transform(predictors_test)"
   ]
  },
  {
   "cell_type": "markdown",
   "metadata": {},
   "source": [
    "### Train and evaluate SVM classifiers with both the selected features and all features \n",
    "\n",
    "Here we train three models:\n",
    "* model1 - with the features selected by SVM\n",
    "* model2 - with the features selected by Logistic Regression\n",
    "* model3 - with all features (i.e. without feature selection)"
   ]
  },
  {
   "cell_type": "code",
   "execution_count": 13,
   "metadata": {},
   "outputs": [],
   "source": [
    "classifier = svm.SVC()"
   ]
  },
  {
   "cell_type": "code",
   "execution_count": 14,
   "metadata": {},
   "outputs": [
    {
     "data": {
      "text/plain": [
       "0.559375"
      ]
     },
     "execution_count": 14,
     "metadata": {},
     "output_type": "execute_result"
    }
   ],
   "source": [
    "model1 = classifier.fit(predictors_train_SVMselected, target_train)\n",
    "model1.score(predictors_test_SVMselected, target_test)"
   ]
  },
  {
   "cell_type": "code",
   "execution_count": 15,
   "metadata": {},
   "outputs": [
    {
     "data": {
      "text/plain": [
       "0.55625"
      ]
     },
     "execution_count": 15,
     "metadata": {},
     "output_type": "execute_result"
    }
   ],
   "source": [
    "model2 = classifier.fit(predictors_train_LRselected, target_train)\n",
    "model2.score(predictors_test_LRselected, target_test)"
   ]
  },
  {
   "cell_type": "code",
   "execution_count": 16,
   "metadata": {},
   "outputs": [
    {
     "data": {
      "text/plain": [
       "0.5625"
      ]
     },
     "execution_count": 16,
     "metadata": {},
     "output_type": "execute_result"
    }
   ],
   "source": [
    "model3 = classifier.fit(predictors_train, target_train)\n",
    "model3.score(predictors_test, target_test)"
   ]
  },
  {
   "cell_type": "markdown",
   "metadata": {},
   "source": [
    "## C. Conclusion\n",
    "\n",
    "In this initial run the classifier results show that the classifier with **all** values is actually the best.  The margin to the both the SVM and LogisticRegression selections is small, however, so this may not be indicative.\n",
    "\n",
    "The similarity of the accuracies across all three models suggests that _volatile acidity_ and _alcohol_ are dominant features in predicting the target _quality_.  The remaining features may add some additional accuracy, but do not make a significant addition to a model's accuracy."
   ]
  },
  {
   "cell_type": "markdown",
   "metadata": {},
   "source": [
    "------------\n",
    "\n",
    "# Task 2\n",
    "\n",
    "\n",
    "Repeat the experiment from Task 1 in a loop with different training/test stratified splits.\n",
    "\n",
    "For this task the use of Scikit's `StratifiedKFold` seems to be an appropriate way to split the data.\n",
    "\n",
    "A hold out set can also be used for testing the optimal model suggested by the K-Fold testing.  As we've already split the data above we can hold on to that split data in the form of `target_train` and `target_test`.\n",
    "\n",
    "## Loop evaluation for feature selection\n",
    "\n",
    "While the initial submission used only 5-fold Cross Validation, I've amended this to run the cross-validation loop across multiple different splits of the data.  This is primarily to evaluate the score over a larger number of test runs, as we are not changing the model so there are no \"best\" parameters to maintain.\n",
    "\n",
    "The value of 5 for the CV was selected as in some model splits there are < 10 members of a given class available for in the split.  This prompts a warning from scikit-learn.\n"
   ]
  },
  {
   "cell_type": "code",
   "execution_count": 17,
   "metadata": {},
   "outputs": [
    {
     "name": "stdout",
     "output_type": "stream",
     "text": [
      "Processing a set for loop 0\n",
      "Completed StratifiedKFold processing for loop 0\n",
      "Processing a set for loop 1\n",
      "Completed StratifiedKFold processing for loop 1\n",
      "Processing a set for loop 2\n",
      "Completed StratifiedKFold processing for loop 2\n",
      "Processing a set for loop 3\n",
      "Completed StratifiedKFold processing for loop 3\n",
      "Processing a set for loop 4\n",
      "Completed StratifiedKFold processing for loop 4\n",
      "Processing a set for loop 5\n",
      "Completed StratifiedKFold processing for loop 5\n",
      "Processing a set for loop 6\n",
      "Completed StratifiedKFold processing for loop 6\n",
      "Processing a set for loop 7\n",
      "Completed StratifiedKFold processing for loop 7\n",
      "Processing a set for loop 8\n",
      "Completed StratifiedKFold processing for loop 8\n",
      "Processing a set for loop 9\n",
      "Completed StratifiedKFold processing for loop 9\n",
      "Processing a set for loop 10\n",
      "Completed StratifiedKFold processing for loop 10\n",
      "Processing a set for loop 11\n",
      "Completed StratifiedKFold processing for loop 11\n",
      "Processing a set for loop 12\n",
      "Completed StratifiedKFold processing for loop 12\n",
      "Processing a set for loop 13\n",
      "Completed StratifiedKFold processing for loop 13\n",
      "Processing a set for loop 14\n",
      "Completed StratifiedKFold processing for loop 14\n",
      "Processing a set for loop 15\n",
      "Completed StratifiedKFold processing for loop 15\n",
      "Processing a set for loop 16\n",
      "Completed StratifiedKFold processing for loop 16\n",
      "Processing a set for loop 17\n",
      "Completed StratifiedKFold processing for loop 17\n",
      "Processing a set for loop 18\n",
      "Completed StratifiedKFold processing for loop 18\n",
      "Processing a set for loop 19\n",
      "Completed StratifiedKFold processing for loop 19\n"
     ]
    }
   ],
   "source": [
    "# Split the data into 5 folds for training.  Have the data shuffled before the split\n",
    "# Shuffling will also be done by train_test_split so may not be required, but extra shuffle won't hurt\n",
    "\n",
    "ITERATIONS = 20\n",
    "SPLITS = 5\n",
    "\n",
    "strat_fold = StratifiedKFold(n_splits=SPLITS, shuffle=True, random_state=42)\n",
    "\n",
    "accuracies_SVM = np.zeros((ITERATIONS,SPLITS))\n",
    "accuracies_LR = np.zeros((ITERATIONS,SPLITS))\n",
    "accuracies_ALL = np.zeros((ITERATIONS,SPLITS))\n",
    "\n",
    "# Need to scale the data separately on each fold\n",
    "# Redefining here for clarity\n",
    "min_max_scaler = preprocessing.MinMaxScaler()\n",
    "\n",
    "# Keep track of fold we're in, just in case\n",
    "for i in range(ITERATIONS):\n",
    "    print(f\"Processing a set for loop {i}\")\n",
    "    \n",
    "    # Create a new test_train_split that has not been scaled or otherwise modified\n",
    "    # No need to use random state, but want to need shuffle in order to stratify\n",
    "    # Can use more data here too\n",
    "    predictors_train, predictors_test, target_train, target_test = train_test_split(\n",
    "                predictors, target, test_size=0.10, shuffle=True, stratify=target, random_state=42)\n",
    "    \n",
    "    for fold, (train_idx, validation_idx) in enumerate(strat_fold.split(predictors_train, target_train)):\n",
    "        # First of all, split this folds data into training and test sets\n",
    "        fold_X_train, fold_X_val = predictors_train[train_idx], predictors_train[validation_idx]\n",
    "        fold_y_train, fold_y_val = target_train[train_idx], target_train[validation_idx] \n",
    "\n",
    "        fold_X_train = min_max_scaler.fit_transform(fold_X_train)\n",
    "        fold_X_val = min_max_scaler.transform(fold_X_val)\n",
    "\n",
    "        # Now that the data is split we can run feature selection as the validation set remains independent of the feature selection\n",
    "        # The validation set is also transformed based on the training set, but has not influenced that transform\n",
    "        # As we're repeating the Task 1 experiement, we can re-use the selector objects from above\n",
    "        fold_train_SVM_predictors = selectorSVM.fit_transform(fold_X_train, fold_y_train)\n",
    "        fold_val_SVM_predictors = selectorSVM.transform(fold_X_val)\n",
    "\n",
    "        # Repeat for Logistic Regression\n",
    "        fold_train_LR_predictors = selectorLR.fit_transform(fold_X_train, fold_y_train)\n",
    "        fold_val_LR_predictors = selectorLR.transform(fold_X_val)\n",
    "\n",
    "\n",
    "        # Evaluate the models for this split and store the results\n",
    "        fold_SVM = classifier.fit(fold_train_SVM_predictors, fold_y_train)\n",
    "        accuracies_SVM[i][fold] = fold_SVM.score(fold_val_SVM_predictors, fold_y_val)\n",
    "\n",
    "        fold_LR = classifier.fit(fold_train_LR_predictors, fold_y_train)\n",
    "        accuracies_LR[i][fold] = fold_LR.score(fold_val_LR_predictors, fold_y_val)\n",
    "\n",
    "        fold_ALL = classifier.fit(fold_X_train, fold_y_train)\n",
    "        accuracies_ALL[i][fold] = fold_ALL.score(fold_X_val, fold_y_val)\n",
    "\n",
    "    print(f\"Completed StratifiedKFold processing for loop {i}\")"
   ]
  },
  {
   "cell_type": "markdown",
   "metadata": {},
   "source": [
    "## Box Plot"
   ]
  },
  {
   "cell_type": "code",
   "execution_count": 18,
   "metadata": {},
   "outputs": [
    {
     "data": {
      "text/plain": [
       "Text(0,0.5,'Accuracy/score()')"
      ]
     },
     "execution_count": 18,
     "metadata": {},
     "output_type": "execute_result"
    },
    {
     "data": {
      "image/png": "[encoded data removed]",
      "text/plain": [
       "<Figure size 648x432 with 1 Axes>"
      ]
     },
     "metadata": {
      "needs_background": "light"
     },
     "output_type": "display_data"
    }
   ],
   "source": [
    "accuracies_df = pd.DataFrame({'SVM':accuracies_SVM.flatten(), 'LogistiC Regression':accuracies_LR.flatten(), 'All Features':accuracies_ALL.flatten()})\n",
    "ax = accuracies_df.boxplot(figsize=(9,6))\n",
    "ax.set_title(\"Box Plot of _Accuracy_ for different feature groups\")\n",
    "ax.set_ylabel(\"Accuracy/score()\")"
   ]
  },
  {
   "cell_type": "markdown",
   "metadata": {},
   "source": [
    "### Conclusion\n",
    "\n",
    "The box plot shows that the Logistic Regression selected features outperformed the SVM-selected features as well as the models with no features selected.  It had not only the highest results, but the range of results was higher than the other models. \n",
    "\n",
    "The results stands in contrast to Task 1 where the _All features_ model was slightly better.  This experiment appears to confirm the suspicion that the results for _All_ in Task 1 was \"lucky\" rather than something specific in the feature set.  The improved results for LR in Task 2 confirm that the extra features in _All_ add no benefit in training the model."
   ]
  },
  {
   "cell_type": "markdown",
   "metadata": {},
   "source": [
    "# Task 3\n",
    "\n",
    "Build two pipelines for training classifiers on the *winequality.csv* data set.\n",
    "\n",
    "-------\n",
    "\n",
    "For this task I'll increase the number of features selected to 5.  This is to match the number of features that will be supplied to PCA.  In previous exercises with this dataset I performed PCA on the data set and determined that 5 was a good of features/components to select as it represented ~ 90% of the variance in the data.  \n",
    "\n",
    "![PCAVariance](PCARobustScaler.png)\n",
    "\n",
    "The diagram above shows the cumulative variance as generated with `RobustScaler` on the dataset.  Due to the high number of outliers this scaler may be more appropriate as `MinMaxScaler` is sensitive to outliers.\n",
    "\n",
    "This diagram was generated for an exercise in CE4021, with the code available on GitLab [here](https://gitlab.com/CE4021/Group2/project/blob/group_2_2/GroupProject_18195326.ipynb).\n",
    "\n",
    "See also post to Group 2 Forum under _Tasks 2 and 3 - Scaling_ on [Sulis](https://sulis.ul.ie/x/FSPluK)."
   ]
  },
  {
   "cell_type": "code",
   "execution_count": 19,
   "metadata": {},
   "outputs": [],
   "source": [
    "# Before processing each pipeline, create a split of the original data\n",
    "# Avoids any unintentional data snopping from cells above\n",
    "pipe_X = wine_df.drop('quality', axis=1).values\n",
    "pipe_y = wine_df['quality']\n",
    "\n",
    "pipe_X_train, pipe_X_test, pipe_y_train, pipe_y_test = train_test_split(\n",
    "    pipe_X, pipe_y, test_size=0.20, shuffle=True, stratify=pipe_y, random_state=42)"
   ]
  },
  {
   "cell_type": "markdown",
   "metadata": {},
   "source": [
    "Note that in both pipelines below, `FeatureUnion` is not necessary as we're not combining multiple feature sets (or output of feature selectors).\n",
    "\n",
    "For the first pipeline, create a pipeline based on the approach above, which consists of a MinMaxScaler and feature selection using RFE."
   ]
  },
  {
   "cell_type": "code",
   "execution_count": 20,
   "metadata": {},
   "outputs": [
    {
     "name": "stderr",
     "output_type": "stream",
     "text": [
      "D:\\Masters\\Anaconda3\\lib\\site-packages\\sklearn\\model_selection\\_split.py:652: Warning: The least populated class in y has only 8 members, which is too few. The minimum number of members in any class cannot be less than n_splits=10.\n",
      "  % (min_groups, self.n_splits)), Warning)\n"
     ]
    },
    {
     "name": "stdout",
     "output_type": "stream",
     "text": [
      "The mean of the pipeline's scores is: 0.5771\n",
      "The best of the pipeline's scores is: 0.6457\n"
     ]
    }
   ],
   "source": [
    "# Create the necessary objects for inclusion in the pipeline\n",
    "min_max = preprocessing.MinMaxScaler()\n",
    "feature_selector = RFE(LogisticRegression(), 5)\n",
    "classifier = svm.SVC(kernel='linear')\n",
    "\n",
    "steps = [('scaler', min_max), ('features', feature_selector), ('clf', classifier)]\n",
    "pipe = Pipeline(steps)\n",
    "\n",
    "scores = cross_val_score(pipe, pipe_X_train, pipe_y_train, cv=10)\n",
    "\n",
    "print(f\"The mean of the pipeline's scores is: {scores.mean():.4f}\")\n",
    "print(f\"The best of the pipeline's scores is: {scores.max():.4f}\")"
   ]
  },
  {
   "cell_type": "code",
   "execution_count": 21,
   "metadata": {},
   "outputs": [
    {
     "data": {
      "text/plain": [
       "0.56875"
      ]
     },
     "execution_count": 21,
     "metadata": {},
     "output_type": "execute_result"
    }
   ],
   "source": [
    "# Determine the score using the held out test set\n",
    "pipe.fit(pipe_X_train, pipe_y_train)\n",
    "pipe.score(pipe_X_test, pipe_y_test)"
   ]
  },
  {
   "cell_type": "markdown",
   "metadata": {},
   "source": [
    "-----\n",
    "For the second pipeline, we use `RobustScaler` and PCA.  As noted above `RobustScaler` is less sensitive to the outliers in the original data."
   ]
  },
  {
   "cell_type": "code",
   "execution_count": 22,
   "metadata": {},
   "outputs": [
    {
     "name": "stderr",
     "output_type": "stream",
     "text": [
      "D:\\Masters\\Anaconda3\\lib\\site-packages\\sklearn\\model_selection\\_split.py:652: Warning: The least populated class in y has only 8 members, which is too few. The minimum number of members in any class cannot be less than n_splits=10.\n",
      "  % (min_groups, self.n_splits)), Warning)\n"
     ]
    },
    {
     "name": "stdout",
     "output_type": "stream",
     "text": [
      "The mean of the pipeline's scores is: 0.5990\n",
      "The best of the pipeline's scores is: 0.6614\n"
     ]
    }
   ],
   "source": [
    "# Create the necessary objects for inclusion in the pipeline\n",
    "rb_scaler = preprocessing.RobustScaler()\n",
    "feature_selector = PCA(n_components=5)\n",
    "classifier = svm.SVC(kernel='rbf')\n",
    "\n",
    "steps = [('scaler', rb_scaler), ('features', feature_selector), ('clf', classifier)]\n",
    "pipe = Pipeline(steps)\n",
    "\n",
    "scores = cross_val_score(pipe, pipe_X_train, pipe_y_train, cv=10)\n",
    "\n",
    "print(f\"The mean of the pipeline's scores is: {scores.mean():.4f}\")\n",
    "print(f\"The best of the pipeline's scores is: {scores.max():.4f}\")"
   ]
  },
  {
   "cell_type": "code",
   "execution_count": 23,
   "metadata": {},
   "outputs": [
    {
     "data": {
      "text/plain": [
       "0.615625"
      ]
     },
     "execution_count": 23,
     "metadata": {},
     "output_type": "execute_result"
    }
   ],
   "source": [
    "# Determine the score using the held out test set\n",
    "pipe.fit(pipe_X_train, pipe_y_train)\n",
    "pipe.score(pipe_X_test, pipe_y_test)"
   ]
  },
  {
   "cell_type": "markdown",
   "metadata": {},
   "source": [
    "### Conclusion\n",
    "\n",
    "The two pipelines use different scaling and feature selection methods to process the entire dataset. The pipeline that uses PCA produces a better accuracy score.  That indicates that **_for this data set_** the selection based on the cumulative component variance that PCA generates is better than the use of accuracy values by RFE.\n",
    "\n",
    "The use of pipeline has a number of advantages over the approaches with earlier tasks.  Primarily it avoids the risk of inadvertent snooping while processing the data through the various stages of the pipe.  It also ensures a consistent, repeatable process that can be then applied to out-of-sample data."
   ]
  }
 ],
 "metadata": {
  "kernelspec": {
   "display_name": "Python 3",
   "language": "python",
   "name": "python3"
  },
  "language_info": {
   "codemirror_mode": {
    "name": "ipython",
    "version": 3
   },
   "file_extension": ".py",
   "mimetype": "text/x-python",
   "name": "python",
   "nbconvert_exporter": "python",
   "pygments_lexer": "ipython3",
   "version": "3.6.6"
  }
 },
 "nbformat": 4,
 "nbformat_minor": 2
}
